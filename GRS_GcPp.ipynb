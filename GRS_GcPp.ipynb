{
 "cells": [
  {
   "cell_type": "code",
   "execution_count": 1,
   "metadata": {},
   "outputs": [
    {
     "name": "stdout",
     "output_type": "stream",
     "text": [
      "Requirement already satisfied: torch_geometric in /Users/rozaabol/miniconda3/lib/python3.11/site-packages (2.4.0)\n",
      "Requirement already satisfied: tqdm in /Users/rozaabol/miniconda3/lib/python3.11/site-packages (from torch_geometric) (4.65.0)\n",
      "Requirement already satisfied: numpy in /Users/rozaabol/miniconda3/lib/python3.11/site-packages (from torch_geometric) (1.26.3)\n",
      "Requirement already satisfied: scipy in /Users/rozaabol/miniconda3/lib/python3.11/site-packages (from torch_geometric) (1.12.0)\n",
      "Requirement already satisfied: jinja2 in /Users/rozaabol/miniconda3/lib/python3.11/site-packages (from torch_geometric) (3.1.3)\n",
      "Requirement already satisfied: requests in /Users/rozaabol/miniconda3/lib/python3.11/site-packages (from torch_geometric) (2.31.0)\n",
      "Requirement already satisfied: pyparsing in /Users/rozaabol/miniconda3/lib/python3.11/site-packages (from torch_geometric) (3.1.1)\n",
      "Requirement already satisfied: scikit-learn in /Users/rozaabol/miniconda3/lib/python3.11/site-packages (from torch_geometric) (1.4.0)\n",
      "Requirement already satisfied: psutil>=5.8.0 in /Users/rozaabol/miniconda3/lib/python3.11/site-packages (from torch_geometric) (5.9.8)\n",
      "Requirement already satisfied: MarkupSafe>=2.0 in /Users/rozaabol/miniconda3/lib/python3.11/site-packages (from jinja2->torch_geometric) (2.1.4)\n",
      "Requirement already satisfied: charset-normalizer<4,>=2 in /Users/rozaabol/miniconda3/lib/python3.11/site-packages (from requests->torch_geometric) (2.0.4)\n",
      "Requirement already satisfied: idna<4,>=2.5 in /Users/rozaabol/miniconda3/lib/python3.11/site-packages (from requests->torch_geometric) (3.4)\n",
      "Requirement already satisfied: urllib3<3,>=1.21.1 in /Users/rozaabol/miniconda3/lib/python3.11/site-packages (from requests->torch_geometric) (1.26.18)\n",
      "Requirement already satisfied: certifi>=2017.4.17 in /Users/rozaabol/miniconda3/lib/python3.11/site-packages (from requests->torch_geometric) (2023.11.17)\n",
      "Requirement already satisfied: joblib>=1.2.0 in /Users/rozaabol/miniconda3/lib/python3.11/site-packages (from scikit-learn->torch_geometric) (1.3.2)\n",
      "Requirement already satisfied: threadpoolctl>=2.0.0 in /Users/rozaabol/miniconda3/lib/python3.11/site-packages (from scikit-learn->torch_geometric) (3.2.0)\n"
     ]
    }
   ],
   "source": [
    "!pip install torch_geometric"
   ]
  },
  {
   "cell_type": "code",
   "execution_count": 2,
   "metadata": {
    "colab": {
     "base_uri": "https://localhost:8080/"
    },
    "id": "iZvDqcbO9RlP",
    "outputId": "88bbbf5a-90a9-4bba-9f3c-c6aa585bd15c"
   },
   "outputs": [
    {
     "name": "stderr",
     "output_type": "stream",
     "text": [
      "/Users/rozaabol/opt/anaconda3/envs/torch/lib/python3.10/site-packages/tqdm/auto.py:22: TqdmWarning: IProgress not found. Please update jupyter and ipywidgets. See https://ipywidgets.readthedocs.io/en/stable/user_install.html\n",
      "  from .autonotebook import tqdm as notebook_tqdm\n"
     ]
    },
    {
     "name": "stdout",
     "output_type": "stream",
     "text": [
      "cpu 1.12.1\n"
     ]
    }
   ],
   "source": [
    "import torch\n",
    "import numpy as np\n",
    "import pandas as pd\n",
    "import networkx as nx\n",
    "import matplotlib.pyplot as plt\n",
    "import seaborn as sns\n",
    "import csv\n",
    "import torch_geometric\n",
    "from torch_geometric.data import Data\n",
    "import random\n",
    "import timeit\n",
    "\n",
    "\n",
    "from tqdm import tqdm\n",
    "from sklearn import preprocessing\n",
    "%matplotlib inline\n",
    "\n",
    "device = torch.device(\"cuda:0\" if torch.cuda.is_available() else \"cpu\")\n",
    "print(device, torch.__version__)\n",
    "   "
   ]
  },
  {
   "cell_type": "code",
   "execution_count": 3,
   "metadata": {
    "colab": {
     "base_uri": "https://localhost:8080/"
    },
    "id": "48iLmgjV9hG5",
    "outputId": "9b7cba37-9aad-4aa0-ca89-1be152e9121c"
   },
   "outputs": [],
   "source": [
    "#!pip install torch-scatter -f https://pytorch-geometric.com/whl/torch-1.7.0+cu102.html\n",
    "#!pip install torch-sparse -f https://pytorch-geometric.com/whl/torch-1.7.0+cu102.html"
   ]
  },
  {
   "cell_type": "code",
   "execution_count": 4,
   "metadata": {
    "id": "yq7ZWsSc99EF"
   },
   "outputs": [],
   "source": [
    "from torch_scatter import scatter_mean, scatter_add\n",
    "\n",
    "# Defining the Attention Mechanism as a Separate Class of itself\n",
    "class AttentionLayer(torch.nn.Module):\n",
    "    def __init__(self, d = 16, activation=2, a = 0.1):\n",
    "        \"\"\"\n",
    "        :param: d: Output Dimension of the Node Embeddings\n",
    "        :param: activation: The Activation Function to be used for the Attention Layer\n",
    "        :param: a: Slope of the -ve part if the activation is Leaky ReLU\n",
    "        \"\"\"\n",
    "        super(AttentionLayer, self).__init__()\n",
    "        self.d = d # Output dimension of the Convolution Vector for each Node\n",
    "        self.activation = activation \n",
    "        self.a = a # Slope of the negative part in Leaky-ReLU\n",
    "        \n",
    "        self.params()\n",
    "        self.initialize()\n",
    "        \n",
    "    def params(self):\n",
    "        self.W_att = torch.nn.Parameter(torch.Tensor(self.d, self.d))\n",
    "\n",
    "    def initialize(self):\n",
    "        \"\"\"\n",
    "        Initialization depends upon the activation function used.\n",
    "        If ReLU/ Leaky ReLU : He (Kaiming) Initialization\n",
    "        If tanh/ sigmoid : Xavier Initialization\n",
    "        0-ReLU, 1-Leaky ReLU, 2-tanh, 3-sigmoid\n",
    "        \"\"\"\n",
    "        non_lin = {0:\"relu\", 1:\"leaky_relu\", 2:\"tanh\", 3:\"sigmoid\"}\n",
    "        \n",
    "        if (self.activation==1) or (self.activation==0):\n",
    "            torch.nn.init.kaiming_normal_(self.W_att, a=self.a, nonlinearity=non_lin[self.activation])\n",
    "        elif (self.activation==2) or (self.activation==3):\n",
    "            torch.nn.init.xavier_normal_(self.W_att)\n",
    "        else:\n",
    "            raise ValueError(\"Activation can only take values 0,1,2,3!\")\n",
    "\n",
    "    def forward(self, node_embeddings, batch, size = None):\n",
    "        \"\"\" \n",
    "        :param: node_embeddings :(N_B x D) Tensor containing Node Embeddings\n",
    "        :param: batch : Tensor containing the Graph to which Each Node in the Batch belongs\n",
    "        :param: size : Check Documentation https://pytorch-scatter.readthedocs.io/en/1.3.0/functions/mean.html\n",
    "        :return: global_graph_embedding for each graph in the batch\n",
    "        \"\"\"\n",
    "        size = batch[-1].item()+1 if size is None else size # Gives Batch Size = B\n",
    "        \n",
    "        global_context = scatter_mean(node_embeddings,index = batch, dim=0, dim_size = size) # (N_B,D) -> (B,D) (mean)\n",
    "        global_context = torch.matmul(global_context, self.W_att) # (B,D) x (D,D) -> (B,D)\n",
    "        \n",
    "        # Applying the Non-Linearity over W_att*mean(U_i), the default is tanh\n",
    "        if self.activation==2:\n",
    "            global_context = torch.tanh(global_context)\n",
    "        elif self.activation==1:\n",
    "            leaky_relu = torch.nn.LeakyReLU()\n",
    "            global_context = leaky_relu(global_context)\n",
    "        elif self.activation==0:\n",
    "            global_context = global_context.relu()\n",
    "        elif self.activation==3:\n",
    "            global_context = torch.sigmoid(global_context)\n",
    "        \n",
    "        # Getting the attention value for each Node for a Given Graph\n",
    "        e = torch.sum(node_embeddings*global_context[batch], dim=1) # (N_B,D) * (N_B,D) -> (N_B,1) (due to sum along dimension D) \n",
    "        attn_weights = e.sigmoid() # (N_B, 1)\n",
    "        \n",
    "        # Calculating the Global Graph Embedding\n",
    "        global_graph_embedding = scatter_add(node_embeddings*attn_weights.unsqueeze(-1),\n",
    "                                             index=batch, dim=0, dim_size=size) # (N_B,D) x (N_B,1) -> (B,D)\n",
    "        \n",
    "        return global_graph_embedding"
   ]
  },
  {
   "cell_type": "markdown",
   "metadata": {
    "id": "eAGbUYcmAg5l"
   },
   "source": [
    "# **2) Neural Tensor Network Layer**"
   ]
  },
  {
   "cell_type": "code",
   "execution_count": 5,
   "metadata": {
    "id": "2l-BA5-0AlFV"
   },
   "outputs": [],
   "source": [
    "# Defining the Neural Tensor Network Layer as a Separate Class of Itself\n",
    "class NTNLayer(torch.nn.Module):\n",
    "    def __init__(self, d=16, k=16, activation=0, a = 0.1):\n",
    "        \"\"\"\n",
    "        :param: d: Input Dimension of the NTN - i.e Dimension of the Graph/ Node Embeddings\n",
    "        :param: k: Output Dimension of the NTN - No. of Similarity Scores to output\n",
    "        :param: activation: Activation Function to be used for the NTN - Default = ReLU\n",
    "        :param: a: Slope of the negative part for a Leaky ReLU activation\n",
    "        \"\"\"\n",
    "        super(NTNLayer, self).__init__()\n",
    "        self.d = d # Input Dimension of the NTN\n",
    "        self.k = k # Output dimension of the NTN\n",
    "        self.a = a # Slope in case of Leaky ReLU initialization \n",
    "        self.activation = activation\n",
    "        self.params()\n",
    "        self.initialize()\n",
    "    \n",
    "    def params(self):\n",
    "        self.W = torch.nn.Parameter(torch.Tensor(self.d,self.d,self.k))\n",
    "        self.V = torch.nn.Parameter(torch.Tensor(self.k, 2*self.d))\n",
    "        self.b = torch.nn.Parameter(torch.Tensor(self.k,1))\n",
    "\n",
    "    def initialize(self): \n",
    "        \"\"\"\n",
    "        Initialization depends upon the activation function used.\n",
    "        If ReLU/ Leaky ReLU : He Initialization\n",
    "        If tanh/ sigmoid : Xavier Initialization\n",
    "        0-ReLU, 1-Leaky ReLU, 2-tanh, 3-sigmoid\n",
    "        \"\"\"\n",
    "        non_lin = {0:\"relu\", 1:\"leaky_relu\", 2:\"tanh\", 3:\"sigmoid\"}\n",
    "        if (self.activation==1) or (self.activation==0):\n",
    "            torch.nn.init.kaiming_normal_(self.W, a=self.a, nonlinearity=non_lin[self.activation])\n",
    "            torch.nn.init.kaiming_normal_(self.V, a=self.a, nonlinearity=non_lin[self.activation])\n",
    "            torch.nn.init.kaiming_normal_(self.b, a=self.a, nonlinearity=non_lin[self.activation])\n",
    "            \n",
    "        elif (self.activation==2) or (self.activation==3):\n",
    "            torch.nn.init.xavier_normal_(self.W)\n",
    "            torch.nn.init.xavier_normal_(self.V)\n",
    "            torch.nn.init.xavier_normal_(self.b)\n",
    "        \n",
    "        else:\n",
    "            raise ValueError(\"Activation can only take values 0,1,2,3!\")\n",
    "        \n",
    "    def forward(self, h1, h2):\n",
    "        \"\"\"Returns 'K' Rough Similarity Scores between the Pair of Graphs\n",
    "        The Neural Tensor Network (NTN) outputs 'K' similarity scores where 'K' is a hyperparameter\n",
    "        :param: h1 : Graph Embedding of Graph 1 - (B,D)\n",
    "        :param: h2 : Graph Embedding of Graph 2 - (B,D)\n",
    "        \"\"\"\n",
    "        B,_ = h1.shape\n",
    "        scores = torch.mm(h1, self.W.view(self.d, -1)) # (B,D) x (D, K+D) -> (B, K+D)\n",
    "        scores = scores.view(B,self.d,self.k) # (B,K+D) -> (B,D,K)\n",
    "        scores = (scores*h2.unsqueeze(-1)).sum(dim=1) # (B,D,K) * (B,D,1) -> (B,K)\n",
    "        \n",
    "        concatenated_rep = torch.cat((h1, h2), dim=1) # (B,2D)\n",
    "        scores = scores + torch.mm(concatenated_rep, self.V.t()) # (B,2D) x (2D,K) -> (B,K)\n",
    "        scores = scores + self.b.t() # (B,K) + (1,K) = (B,K)\n",
    "        \n",
    "        if self.activation==0:\n",
    "            scores = scores.relu()\n",
    "            return scores\n",
    "        elif self.activation==1:\n",
    "            leaky_relu = torch.nn.LeakyReLU()\n",
    "            scores = leaky_relu(scores)\n",
    "            return scores\n",
    "        elif self.activation==2:\n",
    "            scores = torch.tanh(scores)\n",
    "            return scores\n",
    "        elif self.activation==3:\n",
    "            scores = torch.sigmoid(scores)\n",
    "            return scores\n",
    "        else:\n",
    "            raise ValueError(\"Activation can only take values 0,1,2,3!\")"
   ]
  },
  {
   "cell_type": "markdown",
   "metadata": {
    "id": "UX8o_JZ7Cjkt"
   },
   "source": [
    "# **3) SimGNN - Putting it Together**"
   ]
  },
  {
   "cell_type": "code",
   "execution_count": 6,
   "metadata": {
    "id": "e8Zj-MX2CoK5"
   },
   "outputs": [],
   "source": [
    "# Writing the Entire SimGNN Model\n",
    "from torch_geometric.utils import to_dense_batch, to_dense_adj\n",
    "from torch_geometric.nn import GCNConv\n",
    "from torch.nn import Linear\n",
    "\n",
    "class SimGNN(torch.nn.Module):\n",
    "    def __init__(self, num_node_features, hist=True, ntn_layer=True, d=16, k=16, bins = 16):\n",
    "        super(SimGNN, self).__init__()\n",
    "        self.setupHyperParams(hist, ntn_layer, d, k, bins, num_node_features)\n",
    "        self.setupLayers()\n",
    "        \n",
    "    def setupHyperParams(self, hist, ntn_layer, d, k, bins, num_node_features):\n",
    "        self.num_node_features = num_node_features\n",
    "        # Dimension of the Node/ Graph Embeddding\n",
    "        self.d = d\n",
    "        # Output Dimension of the NTN\n",
    "        self.k = k\n",
    "        # Do we want to include the NTN Layer in the pipeline\n",
    "        self.ntn_layer = ntn_layer\n",
    "        # Do we want to use the histogram strategy\n",
    "        self.hist = hist\n",
    "        # No. of Bins to be used for the Histogram \n",
    "        self.bins = bins\n",
    "    \n",
    "    def fcnnInputDim(self):\n",
    "        \"\"\"Calculate The Input Dimension of the FCNN Layer\"\"\"\n",
    "        if self.hist and self.ntn_layer:\n",
    "            return self.bins+self.k\n",
    "        elif self.hist:\n",
    "            return self.bins + 1\n",
    "        elif self.ntn_layer:\n",
    "            return self.k\n",
    "        else : \n",
    "            # Instead of NTN ,we would just be using a simple rbf kernel\n",
    "            # between the Graph Embeddings to Compute Similarities\n",
    "            return 1\n",
    "    \n",
    "    def setupLayers(self):\n",
    "        fcnn_input_dim = self.fcnnInputDim()\n",
    "        \n",
    "        # Layers of SimGNN\n",
    "        # GCN Layers\n",
    "        self.conv1 = GCNConv(self.num_node_features,64)\n",
    "        self.conv2 = GCNConv(64,32)\n",
    "        self.conv3 = GCNConv(32,self.d)\n",
    "        \n",
    "        # Attention Layer and Neural Tensor Network Layer \n",
    "        self.attention_layer = AttentionLayer(self.d)\n",
    "        self.NTN = NTNLayer(self.d, self.k)\n",
    "        \n",
    "        # Fully Connected Layer\n",
    "        self.linear_1 = torch.nn.Linear(fcnn_input_dim,16)\n",
    "        self.linear_2 = torch.nn.Linear(16,8)\n",
    "        self.linear_3 = torch.nn.Linear(8,4)\n",
    "        self.linear_4 = torch.nn.Linear(4,1)\n",
    "    \n",
    "    def GCN(self, x, edge_index):\n",
    "        \"\"\"\n",
    "        Implementing the Graph Convolutional Network\n",
    "        :param x : One Hot Encoded Feature Representation of the Nodes\n",
    "        :param edge_index : Tensor Representation of Edges to calculate Adjacency Matrix\n",
    "        :U : (N_B x D) matrix of Node Embeddings\n",
    "        :N_B : Total No. of Nodes in the Batch (irrespective of parent graph) \n",
    "        :D : dimensions of the Node Embeddings (decided by us)\n",
    "        I haven't implemented Dropout/ BatchNorm but can also try to do that\n",
    "        \"\"\"\n",
    "        U = self.conv1(x, edge_index)\n",
    "        U = U.relu()\n",
    "        U = self.conv2(U, edge_index)\n",
    "        U = U.relu()\n",
    "        U = self.conv3(U, edge_index)\n",
    "        return U\n",
    "\n",
    "    def kernel(self, graph_embedding_1, graph_embedding_2):\n",
    "        pass\n",
    "\n",
    "    def rbf_kernel_sim(self, graph_embedding_1, graph_embedding_2):\n",
    "        \"\"\"\n",
    "        :param: graph_embedding_1 : (B,D) dimensional graph embedding\n",
    "        :param: graph_embedding_2 : (B,D) dimensional graph embedding\n",
    "        :return: rbf_sim : RBF Kernel Similarity the two graph embeddings\n",
    "        \"\"\"\n",
    "        distance = graph_embedding_1-graph_embedding_2\n",
    "        distance = torch.sum(distance*distance, dim = 1)\n",
    "        # return (1/distance).view(-1,1)\n",
    "        return torch.exp(-distance).view(-1,1)\n",
    "    \n",
    "    def histogram(self, U1, U2, batch1, batch2):\n",
    "        \"\"\" B = Batch Size\n",
    "        To calculate the Histogram Representation of the Pairwise Interaction Tensor\n",
    "        :param: U1 : (N_B1 x D) matrix which encodes the node embeddings of Graph 1\n",
    "        :param: U2 : (N_B2 x D) matrix which encodes the node embeddings of Graph 2\n",
    "        :param: batch1 : Logs the Parent graph of the Nodes\n",
    "        :param: batch2 : Logs the Parent Graph of the Nodes\n",
    "        :return: norm_hist_scores : (B x self.bins) Normalized histogram for each batch\n",
    "        \"\"\"\n",
    "        # Convert U1 and U2 into Dense Matrices\n",
    "        U1, mask1 = to_dense_batch(U1, batch1) # (B, N_max1, D); (B, N_max1)\n",
    "        U2, mask2 = to_dense_batch(U2, batch2) # (B, N_max2, D); (B, N_max2)\n",
    "        B, N_max1, _ = U1.size()\n",
    "        B, N_max2, _ = U2.size()\n",
    "        \n",
    "        # Max Number of Nodes for Each Graph Pair in the Batch\n",
    "        max_total_nodes = torch.max(mask1.sum(dim=1), mask2.sum(dim=1)).view(-1) # (B,1)\n",
    "         \n",
    "        # Calculating Interaction Scores for the entire batch\n",
    "        interaction_scores = torch.matmul(U1, U2.permute(0,2,1)).detach() # (B, N_max1, N_max2)\n",
    "        interaction_scores = torch.sigmoid(interaction_scores)\n",
    "\n",
    "        # Getting the Histogram for each Pair in the batch\n",
    "        hist_score_list = []\n",
    "        for i in range(B):\n",
    "            interaction_matrix = interaction_scores[:,:max_total_nodes[i], :max_total_nodes[i]]\n",
    "            hist_score = torch.histc(interaction_matrix, bins = self.bins).view(-1) # (self.bins,)\n",
    "            hist_score = hist_score/hist_score.sum() # Normalizing the Histogram\n",
    "            hist_score_list.append(hist_score)\n",
    "\n",
    "        return torch.stack(hist_score_list).view(B, self.bins) # (B, self.bins)\n",
    "    \n",
    "    def FCNN(self, x):\n",
    "        \"\"\":param: x: Rough Similarity Scores of 'B' Graph Pairs where B is Batch Size\"\"\"\n",
    "        ged_sim = self.linear_1(x)\n",
    "        ged_sim = ged_sim.relu()\n",
    "        \n",
    "        ged_sim = self.linear_2(ged_sim)\n",
    "        ged_sim = ged_sim.relu()\n",
    "        \n",
    "        ged_sim = self.linear_3(ged_sim)\n",
    "        ged_sim = ged_sim.relu()\n",
    "        ged_sim = self.linear_4(ged_sim)\n",
    "        \n",
    "        return ged_sim.sigmoid()\n",
    "    \n",
    "    def forward(self, data):\n",
    "        \"\"\"\n",
    "         Forward pass with graphs.\n",
    "         :param data: A Batch Containing a Pair of Graphs.\n",
    "         :return score: Similarity score.\n",
    "         \"\"\"\n",
    "        edge_index_1 = data.edge_index_1\n",
    "        edge_index_2 = data.edge_index_2\n",
    "        x1, x2 = data.x1, data.x2\n",
    "        x1_batch , x2_batch = data.x1_batch, data.x2_batch\n",
    "\n",
    "        # Passed through GCN\n",
    "        node_embeddings_1 = self.GCN(x1, edge_index_1)\n",
    "        node_embeddings_2 = self.GCN(x2, edge_index_2)\n",
    "\n",
    "        # Passed through Attention Layer to get Graph Embedding\n",
    "        graph_embedding_1 = self.attention_layer(node_embeddings_1, x1_batch)\n",
    "        graph_embedding_2 = self.attention_layer(node_embeddings_2, x2_batch)\n",
    "        \n",
    "        # Passed through Neural Tensor Network if allowed otherwise just take a simple Inner Product\n",
    "        if self.ntn_layer:\n",
    "            scores = self.NTN(graph_embedding_1, graph_embedding_2)\n",
    "        else:\n",
    "            scores = self.rbf_kernel_sim(graph_embedding_1, graph_embedding_2)\n",
    "            \n",
    "        # Computed Histogram from the Node Embeddings (Strategy 2)\n",
    "        if self.hist:\n",
    "            hist = self.histogram(node_embeddings_1, node_embeddings_2, x1_batch, x2_batch)\n",
    "            scores = torch.cat((scores, hist), dim=1) # (B, K+self.bins)\n",
    "\n",
    "        # Pass through the Fully Connected Neural Network Layer to get Graph Edit Distance Similarity\n",
    "        sim_pred = self.FCNN(scores)\n",
    "        \n",
    "        return sim_pred.view(-1)"
   ]
  },
  {
   "cell_type": "markdown",
   "metadata": {
    "id": "kOSZQfalF-Go"
   },
   "source": [
    "# **4) Loading Data & Feature Engineering**"
   ]
  },
  {
   "cell_type": "markdown",
   "metadata": {},
   "source": [
    "\n",
    "## **a)Loading data**\n",
    "## **b) Creating Data objects (Graphs)**"
   ]
  },
  {
   "cell_type": "code",
   "execution_count": 7,
   "metadata": {},
   "outputs": [],
   "source": [
    "##***\n",
    "\"\"\"In thiscode we used Car dataset. and the parameters are adjusted like GEDDataset in torch_geometric.datasets. \n",
    "\n",
    "List of parameters:  https://pytorch-geometric.readthedocs.io/en/latest/modules/data.html#module-torch_geometric.data\n",
    "x (Tensor, optional) – Node feature matrix with shape [num_nodes, num_node_features]. (default: None)\n",
    "edge_index (LongTensor, optional) – Graph connectivity in COO format with shape [2, num_edges]. (default: None)\n",
    "edge_attr (Tensor, optional) – Edge feature matrix with shape [num_edges, num_edge_features]. (default: None)\n",
    "y (Tensor, optional) – Graph-level or node-level ground-truth labels with arbitrary shape. (default: None)\n",
    "pos (Tensor, optional) – Node position matrix with shape [num_nodes, num_dimensions]. (default: None)\n",
    "\"\"\"\n",
    "\n",
    "num_items = 10\n",
    "num_nodes = num_items\n",
    "num_users = 60\n",
    "pr_train = 80 #percentage of number of training data\n",
    "train_graphs = []\n",
    "test_graphs = []\n",
    "DS_graphs = []\n",
    "\n",
    "# INFO on CAR dataset: link to download: http://users.cecs.anu.edu.au/~u4940058/CarPreferences.html\n",
    "# The preference questionnaire contains control questions that were randomly selected from the preferences with reversed order. These control questions were included to measure the consistency of the answers provided. In the dataset, we include all the information collected from the experiments. The reader may choose to exclude information based on the control questions which are indicators for random responses from that user.\n",
    "# Data format:The data collected from two experiments is formatted in three csv files respectively representing user attributes, item attributes, and preferences of users over items. In the preference sets for the given user, the first item (indicated by its ID) is preferred to the second one. If the preference was collected as a control question it is indicated by 1 otherwise 0.\n",
    "\n",
    "#Original data\n",
    "Dataset_users = pd.read_csv(\"./CarDataset/users1.csv\") ##Car Dataset_Pair items\n",
    "Dataset_Edges = pd.read_csv(\"./CarDataset/prefs1.csv\") ##Car Dataset_Pair items\n",
    "Dataset_Node_features = pd.read_csv(\"./CarDataset/items1.csv\") ##Car Dataset_item features\n",
    "\n",
    "Dataset_Node_features.drop(\"Item_ID\", axis=1, inplace=True) #removing the index of items from the features\n",
    "Nodes_FeatureMatrix = Dataset_Node_features.values.tolist()\n",
    "num_node_features = len(Nodes_FeatureMatrix[0]) \n",
    "x = torch.tensor(Nodes_FeatureMatrix, dtype=torch.float) #Node feature matrix with shape [num_nodes, num_node_features]\n",
    "#\n",
    "old_user = 0\n",
    "idx_train = 0\n",
    "idx_test = 0\n",
    "for index, row in Dataset_Edges.iterrows():\n",
    "    current_user = row.User_ID    #CarData.User_ID[index]\n",
    "    if old_user != current_user:   \n",
    "        if current_user >1 and current_user <= num_users :\n",
    "            # Saving graph of the user\n",
    "            # Info:https://pytorch-geometric.readthedocs.io/en/latest/notes/introduction.html\n",
    "            edge_index = torch.tensor(Edges_matrix, dtype=torch.long) -1 #Graph connectivity in COO format with shape [2, num_edges]. (default: None)\n",
    "            data = Data(edge_index=edge_index, x=x, num_nodes=num_nodes, num_features=num_node_features ) \n",
    "    \n",
    "            if idx_train < num_users * (5/6): ##random.randint(0,100) < pr_train:\n",
    "                train_graphs.append(data)\n",
    "                DS_graphs.append(data)\n",
    "                idx_train +=1\n",
    "            else:\n",
    "                test_graphs.append(data)  \n",
    "                DS_graphs.append(data)\n",
    "        # starting a new user:\n",
    "        num_edges = Dataset_Edges.User_ID.tolist().count(current_user)\n",
    "        Edges_matrix = np.zeros((2, num_edges)) ##empty\n",
    "        edg = 0 ## edge   \n",
    "    item1 = row.Item1_ID    #CarData.Item1_ID[index]\n",
    "    item2 = row.Item2_ID    #CarData.Item2_ID[index]\n",
    "    Edges_matrix [0][edg]= row.Item1_ID\n",
    "    Edges_matrix [1][edg]= row.Item2_ID \n",
    "    edg+=1\n",
    "    old_user = current_user\n",
    "    \n",
    "# Saving last graph user\n",
    "edge_index = torch.tensor(Edges_matrix, dtype=torch.long)-1 #Graph connectivity in COO format with shape [2, num_edges]. (default: None)\n",
    "data = Data(edge_index=edge_index, x=x, num_nodes=num_nodes, num_features=num_node_features ) \n",
    "\n",
    "test_graphs.append(data) \n",
    "DS_graphs.append(data)"
   ]
  },
  {
   "cell_type": "code",
   "execution_count": 8,
   "metadata": {},
   "outputs": [],
   "source": [
    "##*** \n",
    "\n",
    "from torch_geometric.data import Data\n",
    "from torch_geometric.loader import DataLoader\n",
    "\n",
    "Dataset_graphs = train_graphs+ test_graphs"
   ]
  },
  {
   "cell_type": "markdown",
   "metadata": {
    "id": "GfBXgAbqHK2k"
   },
   "source": [
    "## **c) Creating a Feature Matrix for the Graphs**"
   ]
  },
  {
   "cell_type": "code",
   "execution_count": 9,
   "metadata": {
    "colab": {
     "base_uri": "https://localhost:8080/"
    },
    "id": "06jh6UrsGHy0",
    "outputId": "b0bb1c6e-1920-4a80-cbd3-ee5cdba90e46"
   },
   "outputs": [
    {
     "name": "stdout",
     "output_type": "stream",
     "text": [
      "4 0\n"
     ]
    }
   ],
   "source": [
    "from torch_geometric.transforms import OneHotDegree\n",
    "from torch_geometric.utils import degree\n",
    "\n",
    "# If the dataset does not have a feature matrix, we create one!\n",
    "# Only the AIDS700nef Dataset has an inbuilt feature matrix\n",
    "# We create a One Hot Encoded Degree Feature Matrix\n",
    "if train_graphs[0].x is None:\n",
    "            max_degree = 0\n",
    "            for graph in train_graphs + test_graphs:\n",
    "                # If this graph has edges then do\n",
    "                if graph.edge_index.size(1) > 0:\n",
    "                    max_degree = max(max_degree, int(degree(graph.edge_index[0]).max().item()))\n",
    "            \n",
    "            # Create the feature matrix for the Dataset\n",
    "            one_hot_degree = OneHotDegree(max_degree, cat=False)\n",
    "            train_graphs.transform = one_hot_degree\n",
    "            test_graphs.transform = one_hot_degree\n",
    "\n",
    "num_node_features = train_graphs[0].num_features ##**\n",
    "num_edge_features = train_graphs[0].num_edge_features ##**\n",
    "print(num_node_features, num_edge_features)"
   ]
  },
  {
   "cell_type": "markdown",
   "metadata": {},
   "source": [
    "## **d) Similarity between the praphs**"
   ]
  },
  {
   "cell_type": "code",
   "execution_count": 10,
   "metadata": {},
   "outputs": [],
   "source": [
    "## **Similarity**  A function which takes two inputs and returns theis similarity as a number.\n",
    "# In \"Recommendation systems\", one measure for similarity between two users is to find the distance between their top-k most prefered items\n",
    "\n",
    "# Item_scores_matrix is a matrix which rows are users and columns are items. Entries indicte how much the user likes this item more than the other items.\n",
    "Item_scores_matrix = np.zeros((num_users, num_items))\n",
    "for index, row in Dataset_Edges.iterrows():\n",
    "    user = row.User_ID    #CarData.User_ID[index] \n",
    "    item1 = row.Item1_ID    #CarData.Item1_ID[index]\n",
    "    item2 = row.Item2_ID    #CarData.Item2_ID[index]\n",
    "    Item_scores_matrix[user-1][item1-1] += 1\n",
    "\n",
    "    \n",
    "# Normalizing the scores\n",
    "Personalized_Item_scores_matrix = np.zeros((num_users, num_items))\n",
    "for user in range(num_users):       \n",
    "    Personalized_Item_scores_matrix[user] = Item_scores_matrix[user]/ (num_items)\n",
    "\n",
    "\n"
   ]
  },
  {
   "cell_type": "markdown",
   "metadata": {
    "id": "hvcxuzuiHECX"
   },
   "source": [
    "## **e) Making Pairs of Graphs**"
   ]
  },
  {
   "cell_type": "code",
   "execution_count": 11,
   "metadata": {
    "id": "-XKhDc76GqdA"
   },
   "outputs": [],
   "source": [
    "class makeGraphPairs(torch_geometric.data.Data):\n",
    "    \"\"\" \n",
    "    :param: edge_index_1 : Edge Index of the First Graph\n",
    "    :param: edge_index_2 : Edge Index of the Second Graph in the pair\n",
    "    :param: x_1 : Feature Matrix of the First Graph in the Pair\n",
    "    :param: x_2 : Feature Matrix of the Second Graph in the Pair\n",
    "       \n",
    "    :returns: torch_geometric.data.Data object which comprises two graphs\n",
    "    \"\"\"\n",
    "    def __init__(self, edge_index_1, x1, edge_index_2, x2, graph_sim):#, ged, norm_ged):##**\n",
    "        super(makeGraphPairs, self).__init__()\n",
    "        self.edge_index_1 = edge_index_1\n",
    "        self.x1 = x1\n",
    "        self.edge_index_2 = edge_index_2\n",
    "        self.x2 = x2\n",
    "        #self.ged = ged ##*\n",
    "        #self.norm_ged = norm_ged ##*\n",
    "        self.graph_sim = graph_sim ##*\n",
    "               \n",
    "    \n",
    "    def __inc__(self, key, value,*rest): ## I added *rest\n",
    "        if key == \"edge_index_1\":\n",
    "            return self.x1.size(0)\n",
    "        elif key == \"edge_index_2\":\n",
    "            return self.x2.size(0)\n",
    "        else:\n",
    "            return super().__inc__(key, value)## I added *rest"
   ]
  },
  {
   "cell_type": "code",
   "execution_count": 12,
   "metadata": {},
   "outputs": [],
   "source": [
    " ## **Similarity**  A function which takes two inputs and returns their similarity as a number.\n",
    " # Here, similarity is the intersect of top ranled items for two users.\n",
    "\n",
    "def sim_TopK (x, y):  \n",
    "    #Indices1 = (-Personalized_Item_scores_matrix[user1.idx]).argsort()[:3] # Index of 3-best items (Culd use this one as well.)\n",
    "    Personalized_Item_scores1 = np.zeros((num_items))\n",
    "    Personalized_Item_scores2 = np.zeros((num_items))\n",
    "    for item in range(num_items):  \n",
    "        Personalized_Item_scores1[item] =  x[0].tolist().count(item)/num_items # Personalized item score: (How many times i item prefered / num_items)\n",
    "        Personalized_Item_scores2[item] =  y[0].tolist().count(item)/num_items  \n",
    "    # number of items with score more than n:\n",
    "    n = 0.2\n",
    "    Indices1 = [i for i,v in enumerate(Personalized_Item_scores1) if v >= n]\n",
    "    Indices2 = [j for j,h in enumerate(Personalized_Item_scores2) if h >= n]\n",
    "    graph_sim = len(np.intersect1d(Indices1,Indices2))/((len(Indices1)+len(Indices2))/2) #Min-max normalization on number of intersection of the preferences\n",
    "    return graph_sim\n"
   ]
  },
  {
   "cell_type": "code",
   "execution_count": 13,
   "metadata": {},
   "outputs": [],
   "source": [
    " ## **Similarity**  A function which takes two inputs and returns theis similarity as a number.\n",
    " # Here, similarity is the intersect of top ranled items for two users.\n",
    "\n",
    "def sim_GED (x, y):  \n",
    "    # Number of similar edges\n",
    "    x_pairs = list(zip(x[0],x[1]))\n",
    "    y_pairs = list(zip(y[0],y[1]))\n",
    "\n",
    "\n",
    "    graph_sim = len([l for l in x_pairs if l in y_pairs]) /(np.max([len(x_pairs), len(y_pairs)]))\n",
    "    return graph_sim    \n",
    "\n"
   ]
  },
  {
   "cell_type": "markdown",
   "metadata": {
    "id": "kBTED2zKIC-7"
   },
   "source": [
    "### **i. For Training**"
   ]
  },
  {
   "cell_type": "code",
   "execution_count": 14,
   "metadata": {
    "id": "BZW5jrubHaff"
   },
   "outputs": [],
   "source": [
    "\"\"\"TRAINING SET PAIR\"\"\"\n",
    "# Data List to pass into the Data Loader to get Batches\n",
    "train_graph_pair_list = []\n",
    "\n",
    "\n",
    "# Making the Pairs of Graphs\n",
    "for graph1_num, graph1 in enumerate(train_graphs):\n",
    "    for graph2 in train_graphs:\n",
    "        # Initializing Data\n",
    "        edge_index_1 = graph1.edge_index\n",
    "        x1 = graph1.x\n",
    "        edge_index_2 = graph2.edge_index\n",
    "        x2 = graph2.x\n",
    "\n",
    "        graph_sim =  sim_TopK (edge_index_1, edge_index_2)  ##**\n",
    "        \n",
    "        # Making Graph Pair\n",
    "        graph_pair = makeGraphPairs(edge_index_1=edge_index_1, x1=x1, \n",
    "                                    edge_index_2=edge_index_2, x2=x2, graph_sim = graph_sim)#,ged=ged ,norm_ged=norm_ged , graph_sim = graph_sim) ##*\n",
    "        \n",
    "        # Saving all the Graph Pairs to the List for Batching and Data Loading\n",
    "        train_graph_pair_list.append(graph_pair)"
   ]
  },
  {
   "cell_type": "markdown",
   "metadata": {
    "id": "BOJWjpv6IHZ2"
   },
   "source": [
    "### **ii. For Testing**"
   ]
  },
  {
   "cell_type": "code",
   "execution_count": 15,
   "metadata": {},
   "outputs": [],
   "source": [
    "\"\"\"TEST SET PAIR\"\"\"\n",
    "# Data List to pass into the Data Loader to get batches\n",
    "test_graph_pair_list = []\n",
    "\n",
    "# Making the Pairs of Graphs\n",
    "\n",
    "for graph1 in test_graphs:\n",
    "    for graph2 in train_graphs:\n",
    "        # Initializing Data\n",
    "        edge_index_1 = graph1.edge_index\n",
    "        x1 = graph1.x\n",
    "        edge_index_2 = graph2.edge_index\n",
    "        x2 = graph2.x\n",
    "        \n",
    "        graph_sim =  sim_TopK (edge_index_1, edge_index_2)  ##**\n",
    "        \n",
    "        # Making Graph Pair\n",
    "        graph_pair = makeGraphPairs(edge_index_1=edge_index_1, x1=x1, \n",
    "                                    edge_index_2=edge_index_2, x2=x2, graph_sim = graph_sim)#, ged=ged ,norm_ged=norm_ged)\n",
    "        \n",
    "        # Saving all the Graph Pairs to the List for Batching and Data Loading\n",
    "        test_graph_pair_list.append(graph_pair)\n"
   ]
  },
  {
   "cell_type": "code",
   "execution_count": 16,
   "metadata": {},
   "outputs": [],
   "source": [
    "\"\"\"Whole Data SET PAIR\"\"\"\n",
    "# Data List to pass into the Data Loader to get Batches\n",
    "Dataset_graph_pair_list = []\n",
    "\n",
    "\n",
    "# Making the Pairs of Graphs\n",
    "for graph1_num, graph1 in enumerate(DS_graphs):\n",
    "    for graph2 in DS_graphs:\n",
    "        # Initializing Data\n",
    "        edge_index_1 = graph1.edge_index\n",
    "        x1 = graph1.x\n",
    "        edge_index_2 = graph2.edge_index\n",
    "        x2 = graph2.x\n",
    "\n",
    "        graph_sim =  sim_TopK (edge_index_1, edge_index_2)  ##**\n",
    "        \n",
    "        # Making Graph Pair\n",
    "        graph_pair = makeGraphPairs(edge_index_1=edge_index_1, x1=x1, \n",
    "                                    edge_index_2=edge_index_2, x2=x2, graph_sim = graph_sim)#,ged=ged ,norm_ged=norm_ged , graph_sim = graph_sim) ##*\n",
    "        \n",
    "        # Saving all the Graph Pairs to the List for Batching and Data Loading\n",
    "        Dataset_graph_pair_list.append(graph_pair)        \n",
    "        \n",
    "        \n",
    "               \n",
    "        "
   ]
  },
  {
   "cell_type": "markdown",
   "metadata": {
    "id": "waUgvHJIIeLe"
   },
   "source": [
    "# **5) Training Begins**"
   ]
  },
  {
   "cell_type": "code",
   "execution_count": 17,
   "metadata": {
    "colab": {
     "base_uri": "https://localhost:8080/"
    },
    "id": "SeJRi1rzjK8b",
    "outputId": "d4f01518-bd82-4c20-fafe-1d84548515a9"
   },
   "outputs": [
    {
     "name": "stdout",
     "output_type": "stream",
     "text": [
      "Number of Training Graph Pairs = 2000\n",
      "Number of Validation Graph Pairs = 500\n",
      "Number of Test Graph Pairs = 500\n",
      "Number of Dataset Graph Pairs = 3600\n"
     ]
    }
   ],
   "source": [
    "import random\n",
    "\n",
    "# Creating Validation Data\n",
    "val_graph_pair_list = random.sample(train_graph_pair_list, len(test_graph_pair_list))\n",
    "# Removing the Validation examples from Train Set\n",
    "#train_graph_pair_list = list(set(train_graph_pair_list)-set(val_graph_pair_list))\n",
    "train_graph_pair_list = [x for x in train_graph_pair_list if x not in val_graph_pair_list] ##\n",
    "\n",
    "print(\"Number of Training Graph Pairs = {}\".format(len(train_graph_pair_list)))\n",
    "print(\"Number of Validation Graph Pairs = {}\".format(len(val_graph_pair_list)))\n",
    "print(\"Number of Test Graph Pairs = {}\".format(len(test_graph_pair_list)))\n",
    "print(\"Number of Dataset Graph Pairs = {}\".format(len(Dataset_graph_pair_list)))\n"
   ]
  },
  {
   "cell_type": "code",
   "execution_count": 18,
   "metadata": {
    "id": "nnCYdo1VJ2uy"
   },
   "outputs": [],
   "source": [
    "\n",
    "batch_size = 128\n",
    "bs =  128\n",
    "\n",
    "train_loader = DataLoader(train_graph_pair_list, batch_size = batch_size, follow_batch = [\"x1\", \"x2\"], shuffle = True)\n",
    "val_loader = DataLoader(val_graph_pair_list, batch_size = batch_size, follow_batch= [\"x1\", \"x2\"], shuffle = True)\n",
    "test_loader = DataLoader(test_graph_pair_list, batch_size = bs, follow_batch = [\"x1\", \"x2\"], shuffle = True)\n",
    "Dataset_loader = DataLoader(Dataset_graph_pair_list, batch_size = 1, follow_batch = [\"x1\", \"x2\"], shuffle = True)\n"
   ]
  },
  {
   "cell_type": "code",
   "execution_count": 19,
   "metadata": {
    "id": "DsxsA1PtR85B"
   },
   "outputs": [],
   "source": [
    "def evaluate(dataloader, model, loss_criterion):\n",
    "    total_loss = 0\n",
    "    num_ex = 0\n",
    "    model.eval()\n",
    "    predicted_sim = [] ##** predicted similarity\n",
    "    with torch.no_grad():\n",
    "        for data in dataloader:\n",
    "            data = data.to(device)\n",
    "            sim_pred = model(data)\n",
    "            predicted_sim.append(sim_pred.tolist())   ##**\n",
    "            batch_loss = loss_criterion(sim_pred , data.graph_sim)\n",
    "            total_loss = total_loss + batch_loss # *len(data.ged) ##**\n",
    "            num_ex += 1#len(data.ged)  ##**\n",
    "\n",
    "            if torch.cuda.is_available():\n",
    "                torch.cuda.empty_cache()\n",
    "        \n",
    "    return total_loss.item()/num_ex ,predicted_sim ##**"
   ]
  },
  {
   "cell_type": "code",
   "execution_count": 20,
   "metadata": {
    "colab": {
     "base_uri": "https://localhost:8080/"
    },
    "id": "z6Tza6rxIn3v",
    "outputId": "512e4138-8b09-44c8-92c3-c00c7839246b"
   },
   "outputs": [
    {
     "name": "stdout",
     "output_type": "stream",
     "text": [
      "Training in process...\n"
     ]
    },
    {
     "name": "stderr",
     "output_type": "stream",
     "text": [
      "\r",
      "Epochs:   0%|                                           | 0/100 [00:00<?, ?it/s]"
     ]
    },
    {
     "name": "stdout",
     "output_type": "stream",
     "text": [
      "0 / 100\n",
      "Epoch1/100 | Batch: 0/16 | Train Loss: 0.06710189580917358 | Validation Loss: 0.06814052164554596\n"
     ]
    },
    {
     "name": "stderr",
     "output_type": "stream",
     "text": [
      "/var/folders/3n/n3f4n2gn3hg1xvkglkjfg8wh0000gq/T/ipykernel_21799/4108353566.py:29: UserWarning: To copy construct from a tensor, it is recommended to use sourceTensor.clone().detach() or sourceTensor.clone().detach().requires_grad_(True), rather than torch.tensor(sourceTensor).\n",
      "  label = torch.tensor(train_batch.graph_sim, dtype=torch.float)\n",
      "Epochs:   1%|▎                                  | 1/100 [00:00<01:27,  1.13it/s]"
     ]
    },
    {
     "name": "stdout",
     "output_type": "stream",
     "text": [
      "Epoch: 1/100 | Train MSE: 0.03456136956810951 | Validation MSE: 0.034196093678474426\n",
      "1 / 100\n",
      "Epoch2/100 | Batch: 0/16 | Train Loss: 0.03277943283319473 | Validation Loss: 0.02971607632935047\n"
     ]
    },
    {
     "name": "stderr",
     "output_type": "stream",
     "text": [
      "\r",
      "Epochs:   2%|▋                                  | 2/100 [00:01<01:23,  1.18it/s]"
     ]
    },
    {
     "name": "stdout",
     "output_type": "stream",
     "text": [
      "Epoch: 2/100 | Train MSE: 0.011209103278815746 | Validation MSE: 0.008645158261060715\n",
      "2 / 100\n",
      "Epoch3/100 | Batch: 0/16 | Train Loss: 0.00894206203520298 | Validation Loss: 0.010251721367239952\n"
     ]
    },
    {
     "name": "stderr",
     "output_type": "stream",
     "text": [
      "\r",
      "Epochs:   3%|█                                  | 3/100 [00:02<01:20,  1.21it/s]"
     ]
    },
    {
     "name": "stdout",
     "output_type": "stream",
     "text": [
      "Epoch: 3/100 | Train MSE: 0.007982367649674416 | Validation MSE: 0.007685917895287275\n",
      "3 / 100\n",
      "Epoch4/100 | Batch: 0/16 | Train Loss: 0.010420694947242737 | Validation Loss: 0.008481979370117188\n"
     ]
    },
    {
     "name": "stderr",
     "output_type": "stream",
     "text": [
      "\r",
      "Epochs:   4%|█▍                                 | 4/100 [00:03<01:18,  1.22it/s]"
     ]
    },
    {
     "name": "stdout",
     "output_type": "stream",
     "text": [
      "Epoch: 4/100 | Train MSE: 0.007936099544167519 | Validation MSE: 0.007666444405913353\n",
      "4 / 100\n",
      "Epoch5/100 | Batch: 0/16 | Train Loss: 0.01024322584271431 | Validation Loss: 0.006826787255704403\n"
     ]
    },
    {
     "name": "stderr",
     "output_type": "stream",
     "text": [
      "\r",
      "Epochs:   5%|█▊                                 | 5/100 [00:04<01:18,  1.21it/s]"
     ]
    },
    {
     "name": "stdout",
     "output_type": "stream",
     "text": [
      "Epoch: 5/100 | Train MSE: 0.008998431265354156 | Validation MSE: 0.007723194546997547\n",
      "5 / 100\n",
      "Epoch6/100 | Batch: 0/16 | Train Loss: 0.009254827164113522 | Validation Loss: 0.006990401074290276\n"
     ]
    },
    {
     "name": "stderr",
     "output_type": "stream",
     "text": [
      "\r",
      "Epochs:   6%|██                                 | 6/100 [00:04<01:17,  1.21it/s]"
     ]
    },
    {
     "name": "stdout",
     "output_type": "stream",
     "text": [
      "Epoch: 6/100 | Train MSE: 0.008237633854150772 | Validation MSE: 0.007206140086054802\n",
      "6 / 100\n",
      "Epoch7/100 | Batch: 0/16 | Train Loss: 0.008028912357985973 | Validation Loss: 0.006956659257411957\n"
     ]
    },
    {
     "name": "stderr",
     "output_type": "stream",
     "text": [
      "\r",
      "Epochs:   7%|██▍                                | 7/100 [00:05<01:16,  1.22it/s]"
     ]
    },
    {
     "name": "stdout",
     "output_type": "stream",
     "text": [
      "Epoch: 7/100 | Train MSE: 0.006816026754677296 | Validation MSE: 0.006057231221348047\n",
      "7 / 100\n",
      "Epoch8/100 | Batch: 0/16 | Train Loss: 0.008926778100430965 | Validation Loss: 0.007405857555568218\n"
     ]
    },
    {
     "name": "stderr",
     "output_type": "stream",
     "text": [
      "\r",
      "Epochs:   8%|██▊                                | 8/100 [00:06<01:16,  1.21it/s]"
     ]
    },
    {
     "name": "stdout",
     "output_type": "stream",
     "text": [
      "Epoch: 8/100 | Train MSE: 0.0058123208582401276 | Validation MSE: 0.006434943526983261\n",
      "8 / 100\n",
      "Epoch9/100 | Batch: 0/16 | Train Loss: 0.007388733327388763 | Validation Loss: 0.006826619617640972\n"
     ]
    },
    {
     "name": "stderr",
     "output_type": "stream",
     "text": [
      "\r",
      "Epochs:   9%|███▏                               | 9/100 [00:07<01:16,  1.19it/s]"
     ]
    },
    {
     "name": "stdout",
     "output_type": "stream",
     "text": [
      "Epoch: 9/100 | Train MSE: 0.008182431571185589 | Validation MSE: 0.005964294541627169\n",
      "9 / 100\n",
      "Epoch10/100 | Batch: 0/16 | Train Loss: 0.007611884735524654 | Validation Loss: 0.005839427467435598\n"
     ]
    },
    {
     "name": "stderr",
     "output_type": "stream",
     "text": [
      "\r",
      "Epochs:  10%|███▍                              | 10/100 [00:08<01:15,  1.19it/s]"
     ]
    },
    {
     "name": "stdout",
     "output_type": "stream",
     "text": [
      "Epoch: 10/100 | Train MSE: 0.006826254539191723 | Validation MSE: 0.006562631577253342\n",
      "10 / 100\n",
      "Epoch11/100 | Batch: 0/16 | Train Loss: 0.007048401050269604 | Validation Loss: 0.006382648833096027\n"
     ]
    },
    {
     "name": "stderr",
     "output_type": "stream",
     "text": [
      "\r",
      "Epochs:  11%|███▋                              | 11/100 [00:09<01:14,  1.20it/s]"
     ]
    },
    {
     "name": "stdout",
     "output_type": "stream",
     "text": [
      "Epoch: 11/100 | Train MSE: 0.007427810691297054 | Validation MSE: 0.006818033289164305\n",
      "11 / 100\n",
      "Epoch12/100 | Batch: 0/16 | Train Loss: 0.006142140366137028 | Validation Loss: 0.006128794047981501\n"
     ]
    },
    {
     "name": "stderr",
     "output_type": "stream",
     "text": [
      "\r",
      "Epochs:  12%|████                              | 12/100 [00:09<01:13,  1.20it/s]"
     ]
    },
    {
     "name": "stdout",
     "output_type": "stream",
     "text": [
      "Epoch: 12/100 | Train MSE: 0.007168478332459927 | Validation MSE: 0.006049692630767822\n",
      "12 / 100\n",
      "Epoch13/100 | Batch: 0/16 | Train Loss: 0.007943643257021904 | Validation Loss: 0.005830211099237204\n"
     ]
    },
    {
     "name": "stderr",
     "output_type": "stream",
     "text": [
      "\r",
      "Epochs:  13%|████▍                             | 13/100 [00:10<01:12,  1.20it/s]"
     ]
    },
    {
     "name": "stdout",
     "output_type": "stream",
     "text": [
      "Epoch: 13/100 | Train MSE: 0.005965950898826122 | Validation MSE: 0.005574158392846584\n",
      "13 / 100\n",
      "Epoch14/100 | Batch: 0/16 | Train Loss: 0.006822813302278519 | Validation Loss: 0.0045052096247673035\n"
     ]
    },
    {
     "name": "stderr",
     "output_type": "stream",
     "text": [
      "\r",
      "Epochs:  14%|████▊                             | 14/100 [00:11<01:11,  1.20it/s]"
     ]
    },
    {
     "name": "stdout",
     "output_type": "stream",
     "text": [
      "Epoch: 14/100 | Train MSE: 0.006190541200339794 | Validation MSE: 0.0062142424285411835\n",
      "14 / 100\n",
      "Epoch15/100 | Batch: 0/16 | Train Loss: 0.006020849570631981 | Validation Loss: 0.004581985529512167\n"
     ]
    },
    {
     "name": "stderr",
     "output_type": "stream",
     "text": [
      "\r",
      "Epochs:  15%|█████                             | 15/100 [00:12<01:10,  1.21it/s]"
     ]
    },
    {
     "name": "stdout",
     "output_type": "stream",
     "text": [
      "Epoch: 15/100 | Train MSE: 0.006088304333388805 | Validation MSE: 0.0059966337867081165\n",
      "15 / 100\n",
      "Epoch16/100 | Batch: 0/16 | Train Loss: 0.00583614269271493 | Validation Loss: 0.0059624891728162766\n"
     ]
    },
    {
     "name": "stderr",
     "output_type": "stream",
     "text": [
      "\r",
      "Epochs:  16%|█████▍                            | 16/100 [00:13<01:13,  1.14it/s]"
     ]
    },
    {
     "name": "stdout",
     "output_type": "stream",
     "text": [
      "Epoch: 16/100 | Train MSE: 0.004790159873664379 | Validation MSE: 0.00454490352421999\n",
      "16 / 100\n",
      "Epoch17/100 | Batch: 0/16 | Train Loss: 0.007110719569027424 | Validation Loss: 0.004901735112071037\n"
     ]
    },
    {
     "name": "stderr",
     "output_type": "stream",
     "text": [
      "\r",
      "Epochs:  17%|█████▊                            | 17/100 [00:14<01:13,  1.13it/s]"
     ]
    },
    {
     "name": "stdout",
     "output_type": "stream",
     "text": [
      "Epoch: 17/100 | Train MSE: 0.006064091343432665 | Validation MSE: 0.004786431789398193\n",
      "17 / 100\n",
      "Epoch18/100 | Batch: 0/16 | Train Loss: 0.006058379542082548 | Validation Loss: 0.005335840862244368\n"
     ]
    },
    {
     "name": "stderr",
     "output_type": "stream",
     "text": [
      "\r",
      "Epochs:  18%|██████                            | 18/100 [00:15<01:12,  1.13it/s]"
     ]
    },
    {
     "name": "stdout",
     "output_type": "stream",
     "text": [
      "Epoch: 18/100 | Train MSE: 0.0062688859179615974 | Validation MSE: 0.004314512480050325\n",
      "18 / 100\n",
      "Epoch19/100 | Batch: 0/16 | Train Loss: 0.005327170714735985 | Validation Loss: 0.0061133308336138725\n"
     ]
    },
    {
     "name": "stderr",
     "output_type": "stream",
     "text": [
      "\r",
      "Epochs:  19%|██████▍                           | 19/100 [00:16<01:10,  1.15it/s]"
     ]
    },
    {
     "name": "stdout",
     "output_type": "stream",
     "text": [
      "Epoch: 19/100 | Train MSE: 0.0057649631053209305 | Validation MSE: 0.005191481206566095\n",
      "19 / 100\n",
      "Epoch20/100 | Batch: 0/16 | Train Loss: 0.00566387502476573 | Validation Loss: 0.004542316310107708\n"
     ]
    },
    {
     "name": "stderr",
     "output_type": "stream",
     "text": [
      "\r",
      "Epochs:  20%|██████▊                           | 20/100 [00:17<01:15,  1.06it/s]"
     ]
    },
    {
     "name": "stdout",
     "output_type": "stream",
     "text": [
      "Epoch: 20/100 | Train MSE: 0.005217597354203463 | Validation MSE: 0.004500519949942827\n",
      "20 / 100\n",
      "Epoch21/100 | Batch: 0/16 | Train Loss: 0.004617561586201191 | Validation Loss: 0.0048713404685258865\n"
     ]
    },
    {
     "name": "stderr",
     "output_type": "stream",
     "text": [
      "\r",
      "Epochs:  21%|███████▏                          | 21/100 [00:18<01:11,  1.10it/s]"
     ]
    },
    {
     "name": "stdout",
     "output_type": "stream",
     "text": [
      "Epoch: 21/100 | Train MSE: 0.0049933032132685184 | Validation MSE: 0.0041596549563109875\n",
      "21 / 100\n",
      "Epoch22/100 | Batch: 0/16 | Train Loss: 0.005248368717730045 | Validation Loss: 0.005073442589491606\n"
     ]
    },
    {
     "name": "stderr",
     "output_type": "stream",
     "text": [
      "\r",
      "Epochs:  22%|███████▍                          | 22/100 [00:18<01:09,  1.12it/s]"
     ]
    },
    {
     "name": "stdout",
     "output_type": "stream",
     "text": [
      "Epoch: 22/100 | Train MSE: 0.0055716997012495995 | Validation MSE: 0.0035553970374166965\n",
      "22 / 100\n",
      "Epoch23/100 | Batch: 0/16 | Train Loss: 0.0059478264302015305 | Validation Loss: 0.004293044563382864\n"
     ]
    },
    {
     "name": "stderr",
     "output_type": "stream",
     "text": [
      "\r",
      "Epochs:  23%|███████▊                          | 23/100 [00:19<01:08,  1.13it/s]"
     ]
    },
    {
     "name": "stdout",
     "output_type": "stream",
     "text": [
      "Epoch: 23/100 | Train MSE: 0.0045105270110070705 | Validation MSE: 0.00427628867328167\n",
      "23 / 100\n",
      "Epoch24/100 | Batch: 0/16 | Train Loss: 0.004615757614374161 | Validation Loss: 0.0048339650966227055\n"
     ]
    },
    {
     "name": "stderr",
     "output_type": "stream",
     "text": [
      "\r",
      "Epochs:  24%|████████▏                         | 24/100 [00:20<01:06,  1.15it/s]"
     ]
    },
    {
     "name": "stdout",
     "output_type": "stream",
     "text": [
      "Epoch: 24/100 | Train MSE: 0.005256129894405603 | Validation MSE: 0.0034857746213674545\n",
      "24 / 100\n",
      "Epoch25/100 | Batch: 0/16 | Train Loss: 0.004993179813027382 | Validation Loss: 0.004793688654899597\n"
     ]
    },
    {
     "name": "stderr",
     "output_type": "stream",
     "text": [
      "\r",
      "Epochs:  25%|████████▌                         | 25/100 [00:21<01:05,  1.15it/s]"
     ]
    },
    {
     "name": "stdout",
     "output_type": "stream",
     "text": [
      "Epoch: 25/100 | Train MSE: 0.004360283724963665 | Validation MSE: 0.004282630048692226\n",
      "25 / 100\n",
      "Epoch26/100 | Batch: 0/16 | Train Loss: 0.004800552502274513 | Validation Loss: 0.004055595491081476\n"
     ]
    },
    {
     "name": "stderr",
     "output_type": "stream",
     "text": [
      "\r",
      "Epochs:  26%|████████▊                         | 26/100 [00:22<01:03,  1.16it/s]"
     ]
    },
    {
     "name": "stdout",
     "output_type": "stream",
     "text": [
      "Epoch: 26/100 | Train MSE: 0.0049680001102387905 | Validation MSE: 0.002961752936244011\n",
      "26 / 100\n",
      "Epoch27/100 | Batch: 0/16 | Train Loss: 0.004683451261371374 | Validation Loss: 0.0035023896489292383\n"
     ]
    },
    {
     "name": "stderr",
     "output_type": "stream",
     "text": [
      "\r",
      "Epochs:  27%|█████████▏                        | 27/100 [00:23<01:02,  1.16it/s]"
     ]
    },
    {
     "name": "stdout",
     "output_type": "stream",
     "text": [
      "Epoch: 27/100 | Train MSE: 0.005079390946775675 | Validation MSE: 0.0037535487208515406\n",
      "27 / 100\n",
      "Epoch28/100 | Batch: 0/16 | Train Loss: 0.004836742766201496 | Validation Loss: 0.004325924441218376\n"
     ]
    },
    {
     "name": "stderr",
     "output_type": "stream",
     "text": [
      "\r",
      "Epochs:  28%|█████████▌                        | 28/100 [00:23<01:01,  1.18it/s]"
     ]
    },
    {
     "name": "stdout",
     "output_type": "stream",
     "text": [
      "Epoch: 28/100 | Train MSE: 0.00600004056468606 | Validation MSE: 0.0050640227273106575\n",
      "28 / 100\n",
      "Epoch29/100 | Batch: 0/16 | Train Loss: 0.005332286935299635 | Validation Loss: 0.004132016561925411\n"
     ]
    },
    {
     "name": "stderr",
     "output_type": "stream",
     "text": [
      "\r",
      "Epochs:  29%|█████████▊                        | 29/100 [00:24<01:00,  1.17it/s]"
     ]
    },
    {
     "name": "stdout",
     "output_type": "stream",
     "text": [
      "Epoch: 29/100 | Train MSE: 0.003484622808173299 | Validation MSE: 0.004066992551088333\n",
      "29 / 100\n",
      "Epoch30/100 | Batch: 0/16 | Train Loss: 0.005003607831895351 | Validation Loss: 0.004100407008081675\n"
     ]
    },
    {
     "name": "stderr",
     "output_type": "stream",
     "text": [
      "\r",
      "Epochs:  30%|██████████▏                       | 30/100 [00:25<01:03,  1.11it/s]"
     ]
    },
    {
     "name": "stdout",
     "output_type": "stream",
     "text": [
      "Epoch: 30/100 | Train MSE: 0.0040392279624938965 | Validation MSE: 0.004151729866862297\n",
      "30 / 100\n",
      "Epoch31/100 | Batch: 0/16 | Train Loss: 0.004629291128367186 | Validation Loss: 0.004098143428564072\n"
     ]
    },
    {
     "name": "stderr",
     "output_type": "stream",
     "text": [
      "\r",
      "Epochs:  31%|██████████▌                       | 31/100 [00:26<01:01,  1.12it/s]"
     ]
    },
    {
     "name": "stdout",
     "output_type": "stream",
     "text": [
      "Epoch: 31/100 | Train MSE: 0.0037344847805798054 | Validation MSE: 0.004217947367578745\n",
      "31 / 100\n",
      "Epoch32/100 | Batch: 0/16 | Train Loss: 0.004626934416592121 | Validation Loss: 0.003949182573705912\n"
     ]
    },
    {
     "name": "stderr",
     "output_type": "stream",
     "text": [
      "\r",
      "Epochs:  32%|██████████▉                       | 32/100 [00:27<00:59,  1.15it/s]"
     ]
    },
    {
     "name": "stdout",
     "output_type": "stream",
     "text": [
      "Epoch: 32/100 | Train MSE: 0.004780665505677462 | Validation MSE: 0.003735924605280161\n",
      "32 / 100\n",
      "Epoch33/100 | Batch: 0/16 | Train Loss: 0.004015353973954916 | Validation Loss: 0.003759469371289015\n"
     ]
    },
    {
     "name": "stderr",
     "output_type": "stream",
     "text": [
      "\r",
      "Epochs:  33%|███████████▏                      | 33/100 [00:28<00:57,  1.16it/s]"
     ]
    },
    {
     "name": "stdout",
     "output_type": "stream",
     "text": [
      "Epoch: 33/100 | Train MSE: 0.003638672409579158 | Validation MSE: 0.003426512936130166\n",
      "33 / 100\n",
      "Epoch34/100 | Batch: 0/16 | Train Loss: 0.004451289307326078 | Validation Loss: 0.004091962240636349\n"
     ]
    },
    {
     "name": "stderr",
     "output_type": "stream",
     "text": [
      "\r",
      "Epochs:  34%|███████████▌                      | 34/100 [00:29<00:55,  1.18it/s]"
     ]
    },
    {
     "name": "stdout",
     "output_type": "stream",
     "text": [
      "Epoch: 34/100 | Train MSE: 0.0049658301286399364 | Validation MSE: 0.003935487009584904\n",
      "34 / 100\n",
      "Epoch35/100 | Batch: 0/16 | Train Loss: 0.0044815437868237495 | Validation Loss: 0.0032480242662131786\n"
     ]
    },
    {
     "name": "stderr",
     "output_type": "stream",
     "text": [
      "\r",
      "Epochs:  35%|███████████▉                      | 35/100 [00:30<00:54,  1.20it/s]"
     ]
    },
    {
     "name": "stdout",
     "output_type": "stream",
     "text": [
      "Epoch: 35/100 | Train MSE: 0.004893489181995392 | Validation MSE: 0.0039628432132303715\n",
      "35 / 100\n",
      "Epoch36/100 | Batch: 0/16 | Train Loss: 0.004344280809164047 | Validation Loss: 0.004191336687654257\n"
     ]
    },
    {
     "name": "stderr",
     "output_type": "stream",
     "text": [
      "\r",
      "Epochs:  36%|████████████▏                     | 36/100 [00:30<00:53,  1.19it/s]"
     ]
    },
    {
     "name": "stdout",
     "output_type": "stream",
     "text": [
      "Epoch: 36/100 | Train MSE: 0.004607715643942356 | Validation MSE: 0.0028037724550813437\n",
      "36 / 100\n",
      "Epoch37/100 | Batch: 0/16 | Train Loss: 0.004457049071788788 | Validation Loss: 0.003584552090615034\n"
     ]
    },
    {
     "name": "stderr",
     "output_type": "stream",
     "text": [
      "\r",
      "Epochs:  37%|████████████▌                     | 37/100 [00:31<00:52,  1.20it/s]"
     ]
    },
    {
     "name": "stdout",
     "output_type": "stream",
     "text": [
      "Epoch: 37/100 | Train MSE: 0.0044769058004021645 | Validation MSE: 0.004187299869954586\n",
      "37 / 100\n",
      "Epoch38/100 | Batch: 0/16 | Train Loss: 0.004061685875058174 | Validation Loss: 0.0033272935543209314\n"
     ]
    },
    {
     "name": "stderr",
     "output_type": "stream",
     "text": [
      "\r",
      "Epochs:  38%|████████████▉                     | 38/100 [00:32<00:50,  1.23it/s]"
     ]
    },
    {
     "name": "stdout",
     "output_type": "stream",
     "text": [
      "Epoch: 38/100 | Train MSE: 0.003975815139710903 | Validation MSE: 0.0036530261859297752\n",
      "38 / 100\n",
      "Epoch39/100 | Batch: 0/16 | Train Loss: 0.003818740602582693 | Validation Loss: 0.0028420002199709415\n"
     ]
    },
    {
     "name": "stderr",
     "output_type": "stream",
     "text": [
      "\r",
      "Epochs:  39%|█████████████▎                    | 39/100 [00:33<00:49,  1.24it/s]"
     ]
    },
    {
     "name": "stdout",
     "output_type": "stream",
     "text": [
      "Epoch: 39/100 | Train MSE: 0.0034336044918745756 | Validation MSE: 0.0034828712232410908\n",
      "39 / 100\n",
      "Epoch40/100 | Batch: 0/16 | Train Loss: 0.003875811817124486 | Validation Loss: 0.003527470864355564\n"
     ]
    },
    {
     "name": "stderr",
     "output_type": "stream",
     "text": [
      "\r",
      "Epochs:  40%|█████████████▌                    | 40/100 [00:34<00:48,  1.24it/s]"
     ]
    },
    {
     "name": "stdout",
     "output_type": "stream",
     "text": [
      "Epoch: 40/100 | Train MSE: 0.004217385780066252 | Validation MSE: 0.0032459788490086794\n",
      "40 / 100\n",
      "Epoch41/100 | Batch: 0/16 | Train Loss: 0.0039000562392175198 | Validation Loss: 0.003128174925222993\n"
     ]
    },
    {
     "name": "stderr",
     "output_type": "stream",
     "text": [
      "\r",
      "Epochs:  41%|█████████████▉                    | 41/100 [00:34<00:47,  1.24it/s]"
     ]
    },
    {
     "name": "stdout",
     "output_type": "stream",
     "text": [
      "Epoch: 41/100 | Train MSE: 0.004000208806246519 | Validation MSE: 0.003023899393156171\n",
      "41 / 100\n",
      "Epoch42/100 | Batch: 0/16 | Train Loss: 0.0039050239138305187 | Validation Loss: 0.003517952049151063\n"
     ]
    },
    {
     "name": "stderr",
     "output_type": "stream",
     "text": [
      "\r",
      "Epochs:  42%|██████████████▎                   | 42/100 [00:35<00:47,  1.23it/s]"
     ]
    },
    {
     "name": "stdout",
     "output_type": "stream",
     "text": [
      "Epoch: 42/100 | Train MSE: 0.005084062926471233 | Validation MSE: 0.0036099383141845465\n",
      "42 / 100\n",
      "Epoch43/100 | Batch: 0/16 | Train Loss: 0.004143578000366688 | Validation Loss: 0.00402279244735837\n"
     ]
    },
    {
     "name": "stderr",
     "output_type": "stream",
     "text": [
      "\r",
      "Epochs:  43%|██████████████▌                   | 43/100 [00:36<00:46,  1.23it/s]"
     ]
    },
    {
     "name": "stdout",
     "output_type": "stream",
     "text": [
      "Epoch: 43/100 | Train MSE: 0.004168589599430561 | Validation MSE: 0.003449414623901248\n",
      "43 / 100\n",
      "Epoch44/100 | Batch: 0/16 | Train Loss: 0.003751723561435938 | Validation Loss: 0.003395198378711939\n"
     ]
    },
    {
     "name": "stderr",
     "output_type": "stream",
     "text": [
      "\r",
      "Epochs:  44%|██████████████▉                   | 44/100 [00:37<00:45,  1.23it/s]"
     ]
    },
    {
     "name": "stdout",
     "output_type": "stream",
     "text": [
      "Epoch: 44/100 | Train MSE: 0.003978903871029615 | Validation MSE: 0.003725682385265827\n",
      "44 / 100\n",
      "Epoch45/100 | Batch: 0/16 | Train Loss: 0.004279244691133499 | Validation Loss: 0.003236012766137719\n"
     ]
    },
    {
     "name": "stderr",
     "output_type": "stream",
     "text": [
      "\r",
      "Epochs:  45%|███████████████▎                  | 45/100 [00:38<00:45,  1.21it/s]"
     ]
    },
    {
     "name": "stdout",
     "output_type": "stream",
     "text": [
      "Epoch: 45/100 | Train MSE: 0.0036928504705429077 | Validation MSE: 0.004015188664197922\n",
      "45 / 100\n",
      "Epoch46/100 | Batch: 0/16 | Train Loss: 0.0042022112756967545 | Validation Loss: 0.003951575141400099\n"
     ]
    },
    {
     "name": "stderr",
     "output_type": "stream",
     "text": [
      "\r",
      "Epochs:  46%|███████████████▋                  | 46/100 [00:38<00:44,  1.21it/s]"
     ]
    },
    {
     "name": "stdout",
     "output_type": "stream",
     "text": [
      "Epoch: 46/100 | Train MSE: 0.004336508456617594 | Validation MSE: 0.003084305441007018\n",
      "46 / 100\n",
      "Epoch47/100 | Batch: 0/16 | Train Loss: 0.003937374334782362 | Validation Loss: 0.003019695868715644\n"
     ]
    },
    {
     "name": "stderr",
     "output_type": "stream",
     "text": [
      "\r",
      "Epochs:  47%|███████████████▉                  | 47/100 [00:39<00:43,  1.22it/s]"
     ]
    },
    {
     "name": "stdout",
     "output_type": "stream",
     "text": [
      "Epoch: 47/100 | Train MSE: 0.004630412440747023 | Validation MSE: 0.003317980095744133\n",
      "47 / 100\n",
      "Epoch48/100 | Batch: 0/16 | Train Loss: 0.0035573069471865892 | Validation Loss: 0.003439972409978509\n"
     ]
    },
    {
     "name": "stderr",
     "output_type": "stream",
     "text": [
      "\r",
      "Epochs:  48%|████████████████▎                 | 48/100 [00:40<00:42,  1.23it/s]"
     ]
    },
    {
     "name": "stdout",
     "output_type": "stream",
     "text": [
      "Epoch: 48/100 | Train MSE: 0.0034843150060623884 | Validation MSE: 0.0030327290296554565\n",
      "48 / 100\n",
      "Epoch49/100 | Batch: 0/16 | Train Loss: 0.003840541932731867 | Validation Loss: 0.0034087556414306164\n"
     ]
    },
    {
     "name": "stderr",
     "output_type": "stream",
     "text": [
      "\r",
      "Epochs:  49%|████████████████▋                 | 49/100 [00:41<00:41,  1.22it/s]"
     ]
    },
    {
     "name": "stdout",
     "output_type": "stream",
     "text": [
      "Epoch: 49/100 | Train MSE: 0.003666236996650696 | Validation MSE: 0.0040620602667331696\n",
      "49 / 100\n",
      "Epoch50/100 | Batch: 0/16 | Train Loss: 0.0036417138762772083 | Validation Loss: 0.002959874225780368\n"
     ]
    },
    {
     "name": "stderr",
     "output_type": "stream",
     "text": [
      "\r",
      "Epochs:  50%|█████████████████                 | 50/100 [00:42<00:40,  1.23it/s]"
     ]
    },
    {
     "name": "stdout",
     "output_type": "stream",
     "text": [
      "Epoch: 50/100 | Train MSE: 0.003518246114253998 | Validation MSE: 0.004043093416839838\n",
      "50 / 100\n",
      "Epoch51/100 | Batch: 0/16 | Train Loss: 0.0031455829739570618 | Validation Loss: 0.0038573662750422955\n"
     ]
    },
    {
     "name": "stderr",
     "output_type": "stream",
     "text": [
      "\r",
      "Epochs:  51%|█████████████████▎                | 51/100 [00:43<00:39,  1.24it/s]"
     ]
    },
    {
     "name": "stdout",
     "output_type": "stream",
     "text": [
      "Epoch: 51/100 | Train MSE: 0.004204418510198593 | Validation MSE: 0.0037287070881575346\n",
      "51 / 100\n",
      "Epoch52/100 | Batch: 0/16 | Train Loss: 0.0036312013398855925 | Validation Loss: 0.0032211760990321636\n"
     ]
    },
    {
     "name": "stderr",
     "output_type": "stream",
     "text": [
      "\r",
      "Epochs:  52%|█████████████████▋                | 52/100 [00:43<00:39,  1.23it/s]"
     ]
    },
    {
     "name": "stdout",
     "output_type": "stream",
     "text": [
      "Epoch: 52/100 | Train MSE: 0.0036813162732869387 | Validation MSE: 0.002812816994264722\n",
      "52 / 100\n",
      "Epoch53/100 | Batch: 0/16 | Train Loss: 0.0037577408365905285 | Validation Loss: 0.003825632156804204\n"
     ]
    },
    {
     "name": "stderr",
     "output_type": "stream",
     "text": [
      "\r",
      "Epochs:  53%|██████████████████                | 53/100 [00:44<00:38,  1.23it/s]"
     ]
    },
    {
     "name": "stdout",
     "output_type": "stream",
     "text": [
      "Epoch: 53/100 | Train MSE: 0.00408845953643322 | Validation MSE: 0.00402139313519001\n",
      "53 / 100\n",
      "Epoch54/100 | Batch: 0/16 | Train Loss: 0.0033071483485400677 | Validation Loss: 0.002804227638989687\n"
     ]
    },
    {
     "name": "stderr",
     "output_type": "stream",
     "text": [
      "\r",
      "Epochs:  54%|██████████████████▎               | 54/100 [00:45<00:37,  1.23it/s]"
     ]
    },
    {
     "name": "stdout",
     "output_type": "stream",
     "text": [
      "Epoch: 54/100 | Train MSE: 0.0029663925524801016 | Validation MSE: 0.003488953458145261\n",
      "54 / 100\n",
      "Epoch55/100 | Batch: 0/16 | Train Loss: 0.003644963726401329 | Validation Loss: 0.003230476286262274\n"
     ]
    },
    {
     "name": "stderr",
     "output_type": "stream",
     "text": [
      "\r",
      "Epochs:  55%|██████████████████▋               | 55/100 [00:46<00:36,  1.23it/s]"
     ]
    },
    {
     "name": "stdout",
     "output_type": "stream",
     "text": [
      "Epoch: 55/100 | Train MSE: 0.004101641476154327 | Validation MSE: 0.0037991234567016363\n",
      "55 / 100\n",
      "Epoch56/100 | Batch: 0/16 | Train Loss: 0.003577467054128647 | Validation Loss: 0.0035184952430427074\n"
     ]
    },
    {
     "name": "stderr",
     "output_type": "stream",
     "text": [
      "\r",
      "Epochs:  56%|███████████████████               | 56/100 [00:47<00:35,  1.24it/s]"
     ]
    },
    {
     "name": "stdout",
     "output_type": "stream",
     "text": [
      "Epoch: 56/100 | Train MSE: 0.004297709558159113 | Validation MSE: 0.0027856584638357162\n",
      "56 / 100\n",
      "Epoch57/100 | Batch: 0/16 | Train Loss: 0.004128565546125174 | Validation Loss: 0.003508779453113675\n"
     ]
    },
    {
     "name": "stderr",
     "output_type": "stream",
     "text": [
      "\r",
      "Epochs:  57%|███████████████████▍              | 57/100 [00:47<00:34,  1.24it/s]"
     ]
    },
    {
     "name": "stdout",
     "output_type": "stream",
     "text": [
      "Epoch: 57/100 | Train MSE: 0.004046139772981405 | Validation MSE: 0.002873615361750126\n",
      "57 / 100\n",
      "Epoch58/100 | Batch: 0/16 | Train Loss: 0.0038275327533483505 | Validation Loss: 0.0033599042799323797\n"
     ]
    },
    {
     "name": "stderr",
     "output_type": "stream",
     "text": [
      "\r",
      "Epochs:  58%|███████████████████▋              | 58/100 [00:48<00:33,  1.24it/s]"
     ]
    },
    {
     "name": "stdout",
     "output_type": "stream",
     "text": [
      "Epoch: 58/100 | Train MSE: 0.003893684595823288 | Validation MSE: 0.0028303239960223436\n",
      "58 / 100\n",
      "Epoch59/100 | Batch: 0/16 | Train Loss: 0.0036875642836093903 | Validation Loss: 0.003888933453708887\n"
     ]
    },
    {
     "name": "stderr",
     "output_type": "stream",
     "text": [
      "\r",
      "Epochs:  59%|████████████████████              | 59/100 [00:49<00:33,  1.24it/s]"
     ]
    },
    {
     "name": "stdout",
     "output_type": "stream",
     "text": [
      "Epoch: 59/100 | Train MSE: 0.003942550625652075 | Validation MSE: 0.0028854859992861748\n",
      "59 / 100\n",
      "Epoch60/100 | Batch: 0/16 | Train Loss: 0.0039508044719696045 | Validation Loss: 0.0030173673294484615\n"
     ]
    },
    {
     "name": "stderr",
     "output_type": "stream",
     "text": [
      "\r",
      "Epochs:  60%|████████████████████▍             | 60/100 [00:50<00:32,  1.23it/s]"
     ]
    },
    {
     "name": "stdout",
     "output_type": "stream",
     "text": [
      "Epoch: 60/100 | Train MSE: 0.0035396087914705276 | Validation MSE: 0.003366991179063916\n",
      "60 / 100\n",
      "Epoch61/100 | Batch: 0/16 | Train Loss: 0.0037117023020982742 | Validation Loss: 0.002708977786824107\n"
     ]
    },
    {
     "name": "stderr",
     "output_type": "stream",
     "text": [
      "\r",
      "Epochs:  61%|████████████████████▋             | 61/100 [00:51<00:31,  1.23it/s]"
     ]
    },
    {
     "name": "stdout",
     "output_type": "stream",
     "text": [
      "Epoch: 61/100 | Train MSE: 0.0031218614894896746 | Validation MSE: 0.0029056004714220762\n",
      "61 / 100\n",
      "Epoch62/100 | Batch: 0/16 | Train Loss: 0.0032838983461260796 | Validation Loss: 0.002621290273964405\n"
     ]
    },
    {
     "name": "stderr",
     "output_type": "stream",
     "text": [
      "\r",
      "Epochs:  62%|█████████████████████             | 62/100 [00:51<00:30,  1.24it/s]"
     ]
    },
    {
     "name": "stdout",
     "output_type": "stream",
     "text": [
      "Epoch: 62/100 | Train MSE: 0.004111523739993572 | Validation MSE: 0.0033377965446561575\n",
      "62 / 100\n",
      "Epoch63/100 | Batch: 0/16 | Train Loss: 0.003623821772634983 | Validation Loss: 0.0034624424297362566\n"
     ]
    },
    {
     "name": "stderr",
     "output_type": "stream",
     "text": [
      "\r",
      "Epochs:  63%|█████████████████████▍            | 63/100 [00:52<00:30,  1.23it/s]"
     ]
    },
    {
     "name": "stdout",
     "output_type": "stream",
     "text": [
      "Epoch: 63/100 | Train MSE: 0.0033041327260434628 | Validation MSE: 0.003374330932274461\n",
      "63 / 100\n",
      "Epoch64/100 | Batch: 0/16 | Train Loss: 0.003935458604246378 | Validation Loss: 0.0032321219332516193\n"
     ]
    },
    {
     "name": "stderr",
     "output_type": "stream",
     "text": [
      "\r",
      "Epochs:  64%|█████████████████████▊            | 64/100 [00:53<00:29,  1.23it/s]"
     ]
    },
    {
     "name": "stdout",
     "output_type": "stream",
     "text": [
      "Epoch: 64/100 | Train MSE: 0.003045483026653528 | Validation MSE: 0.0030338449869304895\n",
      "64 / 100\n",
      "Epoch65/100 | Batch: 0/16 | Train Loss: 0.004160095471888781 | Validation Loss: 0.003810941008850932\n"
     ]
    },
    {
     "name": "stderr",
     "output_type": "stream",
     "text": [
      "\r",
      "Epochs:  65%|██████████████████████            | 65/100 [00:54<00:28,  1.23it/s]"
     ]
    },
    {
     "name": "stdout",
     "output_type": "stream",
     "text": [
      "Epoch: 65/100 | Train MSE: 0.0035525313578546047 | Validation MSE: 0.002923283027485013\n",
      "65 / 100\n",
      "Epoch66/100 | Batch: 0/16 | Train Loss: 0.00413668854162097 | Validation Loss: 0.0033907638862729073\n"
     ]
    },
    {
     "name": "stderr",
     "output_type": "stream",
     "text": [
      "\r",
      "Epochs:  66%|██████████████████████▍           | 66/100 [00:55<00:27,  1.23it/s]"
     ]
    },
    {
     "name": "stdout",
     "output_type": "stream",
     "text": [
      "Epoch: 66/100 | Train MSE: 0.0028573914896696806 | Validation MSE: 0.0035316050052642822\n",
      "66 / 100\n",
      "Epoch67/100 | Batch: 0/16 | Train Loss: 0.003880755277350545 | Validation Loss: 0.003016160801053047\n"
     ]
    },
    {
     "name": "stderr",
     "output_type": "stream",
     "text": [
      "\r",
      "Epochs:  67%|██████████████████████▊           | 67/100 [00:56<00:27,  1.22it/s]"
     ]
    },
    {
     "name": "stdout",
     "output_type": "stream",
     "text": [
      "Epoch: 67/100 | Train MSE: 0.0030879038386046886 | Validation MSE: 0.002656724536791444\n",
      "67 / 100\n",
      "Epoch68/100 | Batch: 0/16 | Train Loss: 0.004037374164909124 | Validation Loss: 0.0024558175355196\n"
     ]
    },
    {
     "name": "stderr",
     "output_type": "stream",
     "text": [
      "\r",
      "Epochs:  68%|███████████████████████           | 68/100 [00:56<00:26,  1.22it/s]"
     ]
    },
    {
     "name": "stdout",
     "output_type": "stream",
     "text": [
      "Epoch: 68/100 | Train MSE: 0.004446336533874273 | Validation MSE: 0.003907294012606144\n",
      "68 / 100\n",
      "Epoch69/100 | Batch: 0/16 | Train Loss: 0.0035418858751654625 | Validation Loss: 0.0031961495988070965\n"
     ]
    },
    {
     "name": "stderr",
     "output_type": "stream",
     "text": [
      "\r",
      "Epochs:  69%|███████████████████████▍          | 69/100 [00:57<00:25,  1.22it/s]"
     ]
    },
    {
     "name": "stdout",
     "output_type": "stream",
     "text": [
      "Epoch: 69/100 | Train MSE: 0.003214741125702858 | Validation MSE: 0.0029674372635781765\n",
      "69 / 100\n",
      "Epoch70/100 | Batch: 0/16 | Train Loss: 0.003443365916609764 | Validation Loss: 0.0038107919972389936\n"
     ]
    },
    {
     "name": "stderr",
     "output_type": "stream",
     "text": [
      "\r",
      "Epochs:  70%|███████████████████████▊          | 70/100 [00:58<00:24,  1.22it/s]"
     ]
    },
    {
     "name": "stdout",
     "output_type": "stream",
     "text": [
      "Epoch: 70/100 | Train MSE: 0.003634382039308548 | Validation MSE: 0.0029404168017208576\n",
      "70 / 100\n",
      "Epoch71/100 | Batch: 0/16 | Train Loss: 0.0030446150340139866 | Validation Loss: 0.003103291615843773\n"
     ]
    },
    {
     "name": "stderr",
     "output_type": "stream",
     "text": [
      "\r",
      "Epochs:  71%|████████████████████████▏         | 71/100 [00:59<00:23,  1.22it/s]"
     ]
    },
    {
     "name": "stdout",
     "output_type": "stream",
     "text": [
      "Epoch: 71/100 | Train MSE: 0.0032920478843152523 | Validation MSE: 0.0029663376044481993\n",
      "71 / 100\n",
      "Epoch72/100 | Batch: 0/16 | Train Loss: 0.003729137359187007 | Validation Loss: 0.0030009320471435785\n"
     ]
    },
    {
     "name": "stderr",
     "output_type": "stream",
     "text": [
      "\r",
      "Epochs:  72%|████████████████████████▍         | 72/100 [01:00<00:22,  1.23it/s]"
     ]
    },
    {
     "name": "stdout",
     "output_type": "stream",
     "text": [
      "Epoch: 72/100 | Train MSE: 0.004163958132266998 | Validation MSE: 0.002913114381954074\n",
      "72 / 100\n",
      "Epoch73/100 | Batch: 0/16 | Train Loss: 0.0037128091789782047 | Validation Loss: 0.002824540250003338\n"
     ]
    },
    {
     "name": "stderr",
     "output_type": "stream",
     "text": [
      "\r",
      "Epochs:  73%|████████████████████████▊         | 73/100 [01:00<00:22,  1.20it/s]"
     ]
    },
    {
     "name": "stdout",
     "output_type": "stream",
     "text": [
      "Epoch: 73/100 | Train MSE: 0.003968260250985622 | Validation MSE: 0.003653617575764656\n",
      "73 / 100\n",
      "Epoch74/100 | Batch: 0/16 | Train Loss: 0.0031407782807946205 | Validation Loss: 0.003132028039544821\n"
     ]
    },
    {
     "name": "stderr",
     "output_type": "stream",
     "text": [
      "\r",
      "Epochs:  74%|█████████████████████████▏        | 74/100 [01:01<00:21,  1.21it/s]"
     ]
    },
    {
     "name": "stdout",
     "output_type": "stream",
     "text": [
      "Epoch: 74/100 | Train MSE: 0.002762316260486841 | Validation MSE: 0.0032030411530286074\n",
      "74 / 100\n",
      "Epoch75/100 | Batch: 0/16 | Train Loss: 0.0036903393920511007 | Validation Loss: 0.003197679528966546\n"
     ]
    },
    {
     "name": "stderr",
     "output_type": "stream",
     "text": [
      "\r",
      "Epochs:  75%|█████████████████████████▌        | 75/100 [01:02<00:20,  1.22it/s]"
     ]
    },
    {
     "name": "stdout",
     "output_type": "stream",
     "text": [
      "Epoch: 75/100 | Train MSE: 0.0034701984841376543 | Validation MSE: 0.0025779835414141417\n",
      "75 / 100\n",
      "Epoch76/100 | Batch: 0/16 | Train Loss: 0.0032563472632318735 | Validation Loss: 0.0032926336862146854\n"
     ]
    },
    {
     "name": "stderr",
     "output_type": "stream",
     "text": [
      "\r",
      "Epochs:  76%|█████████████████████████▊        | 76/100 [01:03<00:19,  1.22it/s]"
     ]
    },
    {
     "name": "stdout",
     "output_type": "stream",
     "text": [
      "Epoch: 76/100 | Train MSE: 0.0036431378684937954 | Validation MSE: 0.003380625741556287\n",
      "76 / 100\n",
      "Epoch77/100 | Batch: 0/16 | Train Loss: 0.002959391102194786 | Validation Loss: 0.0028213616460561752\n"
     ]
    },
    {
     "name": "stderr",
     "output_type": "stream",
     "text": [
      "\r",
      "Epochs:  77%|██████████████████████████▏       | 77/100 [01:04<00:18,  1.23it/s]"
     ]
    },
    {
     "name": "stdout",
     "output_type": "stream",
     "text": [
      "Epoch: 77/100 | Train MSE: 0.00301735894754529 | Validation MSE: 0.0028037833981215954\n",
      "77 / 100\n",
      "Epoch78/100 | Batch: 0/16 | Train Loss: 0.0031067165546119213 | Validation Loss: 0.0031963824294507504\n"
     ]
    },
    {
     "name": "stderr",
     "output_type": "stream",
     "text": [
      "\r",
      "Epochs:  78%|██████████████████████████▌       | 78/100 [01:04<00:17,  1.24it/s]"
     ]
    },
    {
     "name": "stdout",
     "output_type": "stream",
     "text": [
      "Epoch: 78/100 | Train MSE: 0.003185718785971403 | Validation MSE: 0.0023801582865417004\n",
      "78 / 100\n",
      "Epoch79/100 | Batch: 0/16 | Train Loss: 0.0030565676279366016 | Validation Loss: 0.002588479546830058\n"
     ]
    },
    {
     "name": "stderr",
     "output_type": "stream",
     "text": [
      "\r",
      "Epochs:  79%|██████████████████████████▊       | 79/100 [01:05<00:16,  1.24it/s]"
     ]
    },
    {
     "name": "stdout",
     "output_type": "stream",
     "text": [
      "Epoch: 79/100 | Train MSE: 0.002787055214866996 | Validation MSE: 0.0030297941993921995\n",
      "79 / 100\n",
      "Epoch80/100 | Batch: 0/16 | Train Loss: 0.0026323525235056877 | Validation Loss: 0.003099829889833927\n"
     ]
    },
    {
     "name": "stderr",
     "output_type": "stream",
     "text": [
      "\r",
      "Epochs:  80%|███████████████████████████▏      | 80/100 [01:06<00:16,  1.22it/s]"
     ]
    },
    {
     "name": "stdout",
     "output_type": "stream",
     "text": [
      "Epoch: 80/100 | Train MSE: 0.003278363961726427 | Validation MSE: 0.002904327353462577\n",
      "80 / 100\n",
      "Epoch81/100 | Batch: 0/16 | Train Loss: 0.0033523605670779943 | Validation Loss: 0.002644982887431979\n"
     ]
    },
    {
     "name": "stderr",
     "output_type": "stream",
     "text": [
      "\r",
      "Epochs:  81%|███████████████████████████▌      | 81/100 [01:07<00:15,  1.22it/s]"
     ]
    },
    {
     "name": "stdout",
     "output_type": "stream",
     "text": [
      "Epoch: 81/100 | Train MSE: 0.004026744514703751 | Validation MSE: 0.0034255331847816706\n",
      "81 / 100\n",
      "Epoch82/100 | Batch: 0/16 | Train Loss: 0.0033368992153555155 | Validation Loss: 0.002935555996373296\n"
     ]
    },
    {
     "name": "stderr",
     "output_type": "stream",
     "text": [
      "\r",
      "Epochs:  82%|███████████████████████████▉      | 82/100 [01:08<00:14,  1.20it/s]"
     ]
    },
    {
     "name": "stdout",
     "output_type": "stream",
     "text": [
      "Epoch: 82/100 | Train MSE: 0.003945662174373865 | Validation MSE: 0.00358568225055933\n",
      "82 / 100\n",
      "Epoch83/100 | Batch: 0/16 | Train Loss: 0.004285064060240984 | Validation Loss: 0.0033360770903527737\n"
     ]
    },
    {
     "name": "stderr",
     "output_type": "stream",
     "text": [
      "\r",
      "Epochs:  83%|████████████████████████████▏     | 83/100 [01:09<00:14,  1.21it/s]"
     ]
    },
    {
     "name": "stdout",
     "output_type": "stream",
     "text": [
      "Epoch: 83/100 | Train MSE: 0.0023819277994334698 | Validation MSE: 0.003195145633071661\n",
      "83 / 100\n",
      "Epoch84/100 | Batch: 0/16 | Train Loss: 0.003437833860516548 | Validation Loss: 0.003356954315677285\n"
     ]
    },
    {
     "name": "stderr",
     "output_type": "stream",
     "text": [
      "\r",
      "Epochs:  84%|████████████████████████████▌     | 84/100 [01:09<00:13,  1.22it/s]"
     ]
    },
    {
     "name": "stdout",
     "output_type": "stream",
     "text": [
      "Epoch: 84/100 | Train MSE: 0.003410711418837309 | Validation MSE: 0.002478604670614004\n",
      "84 / 100\n",
      "Epoch85/100 | Batch: 0/16 | Train Loss: 0.00319955637678504 | Validation Loss: 0.003213912481442094\n"
     ]
    },
    {
     "name": "stderr",
     "output_type": "stream",
     "text": [
      "\r",
      "Epochs:  85%|████████████████████████████▉     | 85/100 [01:10<00:12,  1.23it/s]"
     ]
    },
    {
     "name": "stdout",
     "output_type": "stream",
     "text": [
      "Epoch: 85/100 | Train MSE: 0.0031823632307350636 | Validation MSE: 0.0027855788357555866\n",
      "85 / 100\n",
      "Epoch86/100 | Batch: 0/16 | Train Loss: 0.0031106602400541306 | Validation Loss: 0.002701116492971778\n"
     ]
    },
    {
     "name": "stderr",
     "output_type": "stream",
     "text": [
      "\r",
      "Epochs:  86%|█████████████████████████████▏    | 86/100 [01:12<00:14,  1.00s/it]"
     ]
    },
    {
     "name": "stdout",
     "output_type": "stream",
     "text": [
      "Epoch: 86/100 | Train MSE: 0.0029911301098763943 | Validation MSE: 0.002648407593369484\n",
      "86 / 100\n",
      "Epoch87/100 | Batch: 0/16 | Train Loss: 0.0028850906528532505 | Validation Loss: 0.0027559264563024044\n"
     ]
    },
    {
     "name": "stderr",
     "output_type": "stream",
     "text": [
      "\r",
      "Epochs:  87%|█████████████████████████████▌    | 87/100 [01:13<00:13,  1.04s/it]"
     ]
    },
    {
     "name": "stdout",
     "output_type": "stream",
     "text": [
      "Epoch: 87/100 | Train MSE: 0.003462346736341715 | Validation MSE: 0.0026228984352201223\n",
      "87 / 100\n",
      "Epoch88/100 | Batch: 0/16 | Train Loss: 0.00353825930505991 | Validation Loss: 0.0029854890890419483\n"
     ]
    },
    {
     "name": "stderr",
     "output_type": "stream",
     "text": [
      "\r",
      "Epochs:  88%|█████████████████████████████▉    | 88/100 [01:14<00:11,  1.02it/s]"
     ]
    },
    {
     "name": "stdout",
     "output_type": "stream",
     "text": [
      "Epoch: 88/100 | Train MSE: 0.0031695347279310226 | Validation MSE: 0.003142383648082614\n",
      "88 / 100\n",
      "Epoch89/100 | Batch: 0/16 | Train Loss: 0.003719605738297105 | Validation Loss: 0.0027827266603708267\n"
     ]
    },
    {
     "name": "stderr",
     "output_type": "stream",
     "text": [
      "\r",
      "Epochs:  89%|██████████████████████████████▎   | 89/100 [01:14<00:10,  1.07it/s]"
     ]
    },
    {
     "name": "stdout",
     "output_type": "stream",
     "text": [
      "Epoch: 89/100 | Train MSE: 0.0031807844061404467 | Validation MSE: 0.0036810708697885275\n",
      "89 / 100\n",
      "Epoch90/100 | Batch: 0/16 | Train Loss: 0.0032080134842544794 | Validation Loss: 0.0027461624704301357\n"
     ]
    },
    {
     "name": "stderr",
     "output_type": "stream",
     "text": [
      "\r",
      "Epochs:  90%|██████████████████████████████▌   | 90/100 [01:15<00:08,  1.12it/s]"
     ]
    },
    {
     "name": "stdout",
     "output_type": "stream",
     "text": [
      "Epoch: 90/100 | Train MSE: 0.0032673203386366367 | Validation MSE: 0.0026093085762113333\n",
      "90 / 100\n",
      "Epoch91/100 | Batch: 0/16 | Train Loss: 0.0034509242977946997 | Validation Loss: 0.0033330172300338745\n"
     ]
    },
    {
     "name": "stderr",
     "output_type": "stream",
     "text": [
      "\r",
      "Epochs:  91%|██████████████████████████████▉   | 91/100 [01:16<00:07,  1.15it/s]"
     ]
    },
    {
     "name": "stdout",
     "output_type": "stream",
     "text": [
      "Epoch: 91/100 | Train MSE: 0.0033431388437747955 | Validation MSE: 0.002836015773937106\n",
      "91 / 100\n",
      "Epoch92/100 | Batch: 0/16 | Train Loss: 0.003762452397495508 | Validation Loss: 0.0028965503443032503\n"
     ]
    },
    {
     "name": "stderr",
     "output_type": "stream",
     "text": [
      "\r",
      "Epochs:  92%|███████████████████████████████▎  | 92/100 [01:17<00:06,  1.15it/s]"
     ]
    },
    {
     "name": "stdout",
     "output_type": "stream",
     "text": [
      "Epoch: 92/100 | Train MSE: 0.0030692261643707752 | Validation MSE: 0.0032500748056918383\n",
      "92 / 100\n",
      "Epoch93/100 | Batch: 0/16 | Train Loss: 0.004125445149838924 | Validation Loss: 0.0031377868726849556\n"
     ]
    },
    {
     "name": "stderr",
     "output_type": "stream",
     "text": [
      "\r",
      "Epochs:  93%|███████████████████████████████▌  | 93/100 [01:18<00:06,  1.14it/s]"
     ]
    },
    {
     "name": "stdout",
     "output_type": "stream",
     "text": [
      "Epoch: 93/100 | Train MSE: 0.003011916531249881 | Validation MSE: 0.003121007699519396\n",
      "93 / 100\n",
      "Epoch94/100 | Batch: 0/16 | Train Loss: 0.0030221291817724705 | Validation Loss: 0.002656223252415657\n"
     ]
    },
    {
     "name": "stderr",
     "output_type": "stream",
     "text": [
      "\r",
      "Epochs:  94%|███████████████████████████████▉  | 94/100 [01:19<00:05,  1.17it/s]"
     ]
    },
    {
     "name": "stdout",
     "output_type": "stream",
     "text": [
      "Epoch: 94/100 | Train MSE: 0.00288032996468246 | Validation MSE: 0.0030308449640870094\n",
      "94 / 100\n",
      "Epoch95/100 | Batch: 0/16 | Train Loss: 0.0039870860055089 | Validation Loss: 0.003188907168805599\n"
     ]
    },
    {
     "name": "stderr",
     "output_type": "stream",
     "text": [
      "\r",
      "Epochs:  95%|████████████████████████████████▎ | 95/100 [01:19<00:04,  1.17it/s]"
     ]
    },
    {
     "name": "stdout",
     "output_type": "stream",
     "text": [
      "Epoch: 95/100 | Train MSE: 0.0036197982262820005 | Validation MSE: 0.0029068440198898315\n",
      "95 / 100\n",
      "Epoch96/100 | Batch: 0/16 | Train Loss: 0.0030273341108113527 | Validation Loss: 0.0030420187395066023\n"
     ]
    },
    {
     "name": "stderr",
     "output_type": "stream",
     "text": [
      "\r",
      "Epochs:  96%|████████████████████████████████▋ | 96/100 [01:20<00:03,  1.18it/s]"
     ]
    },
    {
     "name": "stdout",
     "output_type": "stream",
     "text": [
      "Epoch: 96/100 | Train MSE: 0.003484100801870227 | Validation MSE: 0.003020771313458681\n",
      "96 / 100\n",
      "Epoch97/100 | Batch: 0/16 | Train Loss: 0.00310071581043303 | Validation Loss: 0.003085767151787877\n"
     ]
    },
    {
     "name": "stderr",
     "output_type": "stream",
     "text": [
      "\r",
      "Epochs:  97%|████████████████████████████████▉ | 97/100 [01:21<00:02,  1.20it/s]"
     ]
    },
    {
     "name": "stdout",
     "output_type": "stream",
     "text": [
      "Epoch: 97/100 | Train MSE: 0.003354616928845644 | Validation MSE: 0.0024434111546725035\n",
      "97 / 100\n",
      "Epoch98/100 | Batch: 0/16 | Train Loss: 0.0036311198491603136 | Validation Loss: 0.003169332630932331\n"
     ]
    },
    {
     "name": "stderr",
     "output_type": "stream",
     "text": [
      "\r",
      "Epochs:  98%|█████████████████████████████████▎| 98/100 [01:22<00:01,  1.21it/s]"
     ]
    },
    {
     "name": "stdout",
     "output_type": "stream",
     "text": [
      "Epoch: 98/100 | Train MSE: 0.003025893121957779 | Validation MSE: 0.0026591666974127293\n",
      "98 / 100\n",
      "Epoch99/100 | Batch: 0/16 | Train Loss: 0.002640672493726015 | Validation Loss: 0.0033083665184676647\n"
     ]
    },
    {
     "name": "stderr",
     "output_type": "stream",
     "text": [
      "\r",
      "Epochs:  99%|█████████████████████████████████▋| 99/100 [01:23<00:00,  1.22it/s]"
     ]
    },
    {
     "name": "stdout",
     "output_type": "stream",
     "text": [
      "Epoch: 99/100 | Train MSE: 0.0028403354808688164 | Validation MSE: 0.002496495144441724\n",
      "99 / 100\n",
      "Epoch100/100 | Batch: 0/16 | Train Loss: 0.0035927947610616684 | Validation Loss: 0.003559088334441185\n"
     ]
    },
    {
     "name": "stderr",
     "output_type": "stream",
     "text": [
      "Epochs: 100%|█████████████████████████████████| 100/100 [01:24<00:00,  1.19it/s]"
     ]
    },
    {
     "name": "stdout",
     "output_type": "stream",
     "text": [
      "Epoch: 100/100 | Train MSE: 0.003415243234485388 | Validation MSE: 0.002826147247105837\n"
     ]
    },
    {
     "name": "stderr",
     "output_type": "stream",
     "text": [
      "\n"
     ]
    }
   ],
   "source": [
    "print (\"Training in process...\")\n",
    "\n",
    "model = SimGNN(num_node_features, ntn_layer=True, hist=True).to(device)\n",
    "loss_criterion = torch.nn.MSELoss()\n",
    "lr = 0.0001\n",
    "opt = torch.optim.AdamW(model.parameters(), lr = lr, weight_decay = 5e-6)\n",
    "\n",
    "epochs = 100\n",
    "min_val_loss = 1000\n",
    "min_train_loss = 0\n",
    "num_batches = len(train_loader) \n",
    "\n",
    "\n",
    "import time\n",
    "import copy\n",
    "from itertools import cycle\n",
    "train_loss_arr = []\n",
    "val_loss_arr = []\n",
    "tik = time.time()\n",
    "\n",
    "for epoch in tqdm(range(epochs), desc=\"Epochs\"):\n",
    "    print (epoch, \"/\",epochs)\n",
    "    model.train()\n",
    "    for i,(train_batch, val_batch) in enumerate(zip(train_loader, cycle(val_loader))):\n",
    "        # Training the Model\n",
    "        opt.zero_grad()\n",
    "        train_batch = train_batch.to(device)\n",
    "        y_pred = model(train_batch)\n",
    "        label = torch.tensor(train_batch.graph_sim, dtype=torch.float)\n",
    "        loss = loss_criterion(y_pred.view(-1), label)\n",
    "        loss.backward()\n",
    "        opt.step()\n",
    "        train_loss_arr.append(loss.item())\n",
    "\n",
    "        #Cross Validation Begins\n",
    "        model.eval()\n",
    "        with torch.no_grad():\n",
    "            val_batch = val_batch.to(device)\n",
    "            y_val_pred = model(val_batch)\n",
    "            val_loss = loss_criterion(y_val_pred.view(-1), val_batch.graph_sim)\n",
    "            val_loss_arr.append(val_loss.item())\n",
    "        model.train()\n",
    "        \n",
    "        # Model Checkpointing\n",
    "        if (min_val_loss>loss.item()) and (min_val_loss>val_loss.item()):\n",
    "            min_val_loss = val_loss.item()\n",
    "            min_train_loss = loss.item() # Just saving this for reference\n",
    "            best_model = copy.deepcopy(model.state_dict())\n",
    "        \n",
    "        # Printing Loss Values\n",
    "        if i%200 == 0:\n",
    "            print(f\"Epoch{epoch+1}/{epochs} | Batch: {i}/{num_batches} | Train Loss: {loss} | Validation Loss: {val_loss}\")\n",
    "        \n",
    "        if torch.cuda.is_available():\n",
    "            torch.cuda.empty_cache() \n",
    "            \n",
    "    \n",
    "    \n",
    "    # Printing Epoch Summary\n",
    "    print(f\"Epoch: {epoch+1}/{epochs} | Train MSE: {loss} | Validation MSE: {val_loss}\")\n",
    "    \n",
    "\n",
    "    \n",
    "tok = time.time()"
   ]
  },
  {
   "cell_type": "code",
   "execution_count": 21,
   "metadata": {
    "colab": {
     "base_uri": "https://localhost:8080/"
    },
    "id": "2lFItoHui0Jz",
    "outputId": "1a7e553c-a4ad-4f41-9e38-c539bb78b341"
   },
   "outputs": [
    {
     "name": "stdout",
     "output_type": "stream",
     "text": [
      "0.0053601921536028385\n",
      "Test Time = 0.09104514122009277 s\n",
      "Avg. Time Per Pair = 0.00018209028244018554 s\n"
     ]
    }
   ],
   "source": [
    "# Testing the Model\n",
    "model.load_state_dict(best_model)\n",
    "tik = time.time() \n",
    "Test_error, predicted_sim_test = evaluate(test_loader, model, loss_criterion)\n",
    "print(Test_error)\n",
    "tok = time.time()\n",
    "print(\"Test Time =\",tok-tik, \"s\")\n",
    "print(\"Avg. Time Per Pair =\",(tok-tik)/len(test_graph_pair_list),\"s\")\n",
    "\n",
    "#torch.save(model,f'simgnn-{name}.pth')"
   ]
  },
  {
   "cell_type": "code",
   "execution_count": 22,
   "metadata": {
    "colab": {
     "base_uri": "https://localhost:8080/",
     "height": 362
    },
    "id": "K7CBMMWbc1fu",
    "outputId": "8e7d09d6-f2e2-46c1-dfee-1fd5cc6cd02d"
   },
   "outputs": [
    {
     "name": "stdout",
     "output_type": "stream",
     "text": [
      "Number of epochs:100, \t Train and Validation batch_size = 128,\t Test batch_size = 128\n",
      "Minimum Validation Loss:  0.0023457901552319527 \n",
      "Minimum Train Loss:  0.0024738959036767483 \n",
      "Test Loss:  0.0053601921536028385\n",
      "========================================================\n",
      "Learning rate:  0.0001\n",
      "Time taken for Training = 0.091s\n"
     ]
    },
    {
     "data": {
      "image/png": "[encoded data removed]",
      "text/plain": [
       "<Figure size 640x480 with 1 Axes>"
      ]
     },
     "metadata": {},
     "output_type": "display_data"
    }
   ],
   "source": [
    "num = 0\n",
    "\n",
    "\n",
    "print (f\"Number of epochs:{epochs}, \\t Train and Validation batch_size = {batch_size},\\t Test batch_size = {bs}\")\n",
    "print(\"Minimum Validation Loss: \",min_val_loss, \"\\nMinimum Train Loss: \", min_train_loss,  \"\\nTest Loss: \",Test_error)\n",
    "print(\"========================================================\")\n",
    "print(\"Learning rate: \", lr)\n",
    "print(f\"Time taken for Training = {round(tok-tik, 3)}s\")\n",
    "plt.plot(train_loss_arr[num:], label = \"Train Loss\", alpha = 1)\n",
    "plt.plot(val_loss_arr[num:], label = \"Val Loss\", alpha = 0.5)\n",
    "plt.legend()\n",
    "plt.title(\"Loss Curves\")\n",
    "plt.xlabel(\"No. of Iterations\")\n",
    "plt.ylabel(\"MSE Loss\")\n",
    "plt.show()"
   ]
  },
  {
   "cell_type": "markdown",
   "metadata": {},
   "source": [
    "# **Predicring the similarities**"
   ]
  },
  {
   "cell_type": "code",
   "execution_count": 23,
   "metadata": {},
   "outputs": [],
   "source": [
    "# Predicring the similarities for the whole dataset one more time after the model is trained: \n",
    "# These similarities will be used is input for the next step (clustering)\n",
    "\n",
    "Total_error, predicted_sim_total = evaluate(Dataset_loader , model, loss_criterion)\n",
    "\n",
    "predicted_similarities = [j for sub in predicted_sim_total for j in sub]\n",
    "\n",
    "Matrix_predicted_similarities = np.reshape(predicted_similarities, (60, 60))"
   ]
  },
  {
   "cell_type": "markdown",
   "metadata": {},
   "source": [
    "# Part 2: Clustering the users"
   ]
  },
  {
   "cell_type": "code",
   "execution_count": 24,
   "metadata": {},
   "outputs": [],
   "source": [
    "## Dominant set:\n",
    "\n",
    "import numpy as np\n",
    "from numpy.linalg import norm\n",
    "\n",
    "def dominant_set(A, x=None, epsilon=1.0e-4):\n",
    "    \"\"\"Compute the dominant set of the similarity matrix A with the\n",
    "    replicator dynamics optimization approach. Convergence is reached\n",
    "    when x changes less than epsilon.\n",
    "\n",
    "    See: 'Dominant Sets and Pairwise Clustering', by Massimiliano\n",
    "    Pavan and Marcello Pelillo, PAMI 2007.\n",
    "    \"\"\"\n",
    "    if x is None:\n",
    "        x = np.ones(A.shape[0])/float(A.shape[0])\n",
    "        \n",
    "    distance = epsilon*2\n",
    "    while distance > epsilon:\n",
    "        x_old = x.copy()\n",
    "        # x = x * np.dot(A, x) # this works only for dense A\n",
    "        x = x * A.dot(x) # this works both for dense and sparse A\n",
    "        x = x / x.sum()\n",
    "        distance = norm(x - x_old) ## norm of a matrix is a number that estimetes how big is that matrix.\n",
    "        #print (x.size, distance)\n",
    "\n",
    "    return x\n"
   ]
  },
  {
   "cell_type": "code",
   "execution_count": 25,
   "metadata": {},
   "outputs": [
    {
     "name": "stdout",
     "output_type": "stream",
     "text": [
      "Cluster number1 has: 30 users with ids: [ 5  8  9 17 18 21 25 26 28 31 35 36 37 38 40 41 42 43 46 47 48 50 51 52\n",
      " 53 54 55 57 58 60]\n",
      "Cluster number2 has: 15 users with ids: [ 1  2  6 11 13 14 19 23 24 29 30 34 45 49 59]\n",
      "Cluster number3 has: 7 users with ids: [ 3 10 12 22 39 44 56]\n",
      "Cluster number4 has: 4 users with ids: [ 4 15 32 33]\n",
      "Cluster number5 has: 2 users with ids: [16 27]\n",
      "User not blong to any groups are: [ 7 20]\n"
     ]
    }
   ],
   "source": [
    "## DS_Clustering\n",
    "\n",
    "\"\"\"Dominant set clustering: iteratively find the dominant set and then\n",
    "remove it from the dataset.\n",
    "\"\"\"\n",
    "\n",
    "import numpy as np\n",
    "import pandas as pd\n",
    "\n",
    "if __name__ == '__main__':\n",
    "\n",
    "    from sklearn.metrics import pairwise_distances\n",
    "    from sklearn.datasets import make_blobs\n",
    "    import matplotlib.pyplot as plt\n",
    "\n",
    "\n",
    "    num_users=60\n",
    "    \n",
    "    min = np.min(Matrix_predicted_similarities)\n",
    "    max = np.max(Matrix_predicted_similarities)\n",
    "    sim = Matrix_predicted_similarities\n",
    "    Norm_sim = ((sim-min)/(max-min))\n",
    "    D =  1- Norm_sim#****** D should be distance \n",
    "    X = np.array([i for i in range(1 , num_users+1)])\n",
    "\n",
    "    sigma2 = np.median(D)\n",
    "    \n",
    "    \n",
    "    S = np.exp(-D / sigma2)  ## It seems that S is the similarity matrix.\n",
    "\n",
    "    i = 0 \n",
    "    labels_clusters = np.zeros(num_users)  ##**\n",
    "    Groups_id=[]   ##** Saving the id of the group members.\n",
    "    \n",
    "    while S.size > 10:  \n",
    "        i+=1\n",
    "        x = dominant_set(S, epsilon=2e-4)\n",
    "        cutoff = np.median(x[x>0])  ## median is the element in the middle of the sorted elements\n",
    "\n",
    "\n",
    "        #**\n",
    "        idx_dominant = x > cutoff\n",
    "        X_dominant = X[idx_dominant]\n",
    "        ## labels indicate the cluster number of that user. (0 means not clustered)\n",
    "        labels_clusters[X_dominant-1] = i\n",
    "        print(f\"Cluster number{i} has: {X_dominant.size} users with ids: {X_dominant}\")\n",
    "        Groups_id.append(X_dominant)   ##**\n",
    "        #**\n",
    "\n",
    "        # remove the dominant set\n",
    "        idx = x <= cutoff\n",
    "        S = S[idx, :][:, idx]\n",
    "        X = X[idx]\n",
    "        \n",
    "    print(f\"User not blong to any groups are: {X}\")   \n",
    "\n",
    " "
   ]
  },
  {
   "cell_type": "code",
   "execution_count": 26,
   "metadata": {},
   "outputs": [
    {
     "name": "stdout",
     "output_type": "stream",
     "text": [
      "CSV file saved successfully.\n"
     ]
    }
   ],
   "source": [
    "# Saving the groups ids as a csv file:\n",
    "import csv\n",
    "\n",
    "Groups_id_2d_list = [array.tolist() for array in Groups_id]\n",
    "file_path = \"group_Mambers_IDs_CarData.csv\"\n",
    "\n",
    "# Write the 2D list to the CSV file\n",
    "with open(file_path, 'w', newline='') as csvfile:\n",
    "    csv_writer = csv.writer(csvfile)\n",
    "    for row in Groups_id_2d_list:\n",
    "        csv_writer.writerow(row)\n",
    "\n",
    "print(\"CSV file saved successfully.\")"
   ]
  },
  {
   "cell_type": "markdown",
   "metadata": {},
   "source": [
    "# Clustering Evaluation:"
   ]
  },
  {
   "cell_type": "code",
   "execution_count": 27,
   "metadata": {},
   "outputs": [
    {
     "name": "stdout",
     "output_type": "stream",
     "text": [
      "\"euclidean\" between the \"feature vectors of the users\":\n",
      "Silhouette_score = -0.24971771698978873,\n",
      "Calinski_harabasz_score = 2.5031009534147985,\n",
      "Davies_bouldin_score = 7.139337195306343)\n",
      "\n"
     ]
    }
   ],
   "source": [
    "## The distance metric to use. The distance function can be ‘braycurtis’, ‘canberra’, ‘chebyshev’, ‘cityblock’, ‘correlation’, ‘cosine’, ‘dice’, ‘euclidean’, ‘hamming’, ‘jaccard’, ‘jensenshannon’, ‘kulczynski1’, ‘mahalanobis’, ‘matching’, ‘minkowski’, ‘rogerstanimoto’, ‘russellrao’, ‘seuclidean’, ‘sokalmichener’, ‘sokalsneath’, ‘sqeuclidean’, ‘yule’.\n",
    "from sklearn import metrics\n",
    "X = Dataset_users.values.tolist()  # vectors of features of users \n",
    "labels = labels_clusters\n",
    "\n",
    "\n",
    "metric_euc = 'euclidean'\n",
    "Sil_euc = metrics.silhouette_score(X, labels, metric = metric_euc)\n",
    "CH = metrics.calinski_harabasz_score(X, labels)\n",
    "DB = metrics.davies_bouldin_score(X, labels)\n",
    "print (f'\"{metric_euc}\" between the \"feature vectors of the users\":')\n",
    "print (f\"Silhouette_score = {Sil_euc},\\nCalinski_harabasz_score = {CH},\\nDavies_bouldin_score = {DB})\\n\")\n"
   ]
  },
  {
   "cell_type": "code",
   "execution_count": 28,
   "metadata": {},
   "outputs": [
    {
     "name": "stdout",
     "output_type": "stream",
     "text": [
      "\"cosine\" between the \"feature vectors of the users\":\n",
      "Silhouette_score = -0.5340002510653057\n"
     ]
    }
   ],
   "source": [
    "## \"Similarity\" is \"cosine\":\n",
    "metric_cos = 'cosine'\n",
    "Sil_cos = metrics.silhouette_score(X, labels, metric = metric_cos)\n",
    "print (f'\"{metric_cos}\" between the \"feature vectors of the users\":')\n",
    "print (f\"Silhouette_score = {Sil_cos}\")"
   ]
  },
  {
   "cell_type": "code",
   "execution_count": 29,
   "metadata": {},
   "outputs": [
    {
     "name": "stdout",
     "output_type": "stream",
     "text": [
      "\"Similarity\" is \"GCN\":\n",
      "Silhouette_score = -0.004603846179904911\n"
     ]
    }
   ],
   "source": [
    "## \"Similarity\" is \"GCN\":\n",
    "S = preprocessing.normalize(Matrix_predicted_similarities)\n",
    "D =  1- S  #((S-np.min(S))/(np.max(S)-np.min(S)))  # An array of pairwise distances between samples.\n",
    "np.fill_diagonal(D, 0)\n",
    "\n",
    "Sil_GCN = metrics.silhouette_score(D, labels, metric = \"precomputed\")\n",
    "print (f'\"Similarity\" is \"GCN\":')\n",
    "print (f\"Silhouette_score = {Sil_GCN }\")"
   ]
  },
  {
   "cell_type": "code",
   "execution_count": 30,
   "metadata": {},
   "outputs": [
    {
     "name": "stdout",
     "output_type": "stream",
     "text": [
      "\"Similarity\" is \"GED\":\n",
      "Silhouette_score = -0.02868795511828158\n"
     ]
    }
   ],
   "source": [
    "## \"Similarity\" is \"GED\":\n",
    "SS = []\n",
    "for pg in Dataset_loader:\n",
    "    SS.append(sim_GED (pg.edge_index_1, pg.edge_index_2))\n",
    "    \n",
    "SSS = np.reshape(SS, (60, 60))\n",
    "S = preprocessing.normalize(SSS)\n",
    "D =  1- S  #((S-np.min(S))/(np.max(S)-np.min(S)))  # An array of pairwise distances between samples.\n",
    "np.fill_diagonal(D, 0)\n",
    "\n",
    "Sil_GED = metrics.silhouette_score(D, labels, metric = \"precomputed\")\n",
    "print (f'\"Similarity\" is \"GED\":')\n",
    "print (f\"Silhouette_score = {Sil_GED}\")"
   ]
  },
  {
   "cell_type": "code",
   "execution_count": 31,
   "metadata": {},
   "outputs": [
    {
     "name": "stdout",
     "output_type": "stream",
     "text": [
      "\"Similarity\" is \"Top-K\":\n",
      "Silhouette_score = -0.0082220674826191\n"
     ]
    }
   ],
   "source": [
    "## \"Similarity\" is \"Top-K\":\n",
    "SS = []\n",
    "for pg in Dataset_loader:\n",
    "    SS.append(sim_TopK (pg.edge_index_1, pg.edge_index_2))\n",
    "\n",
    "SSS = np.reshape(SS, (60, 60))\n",
    "S = preprocessing.normalize(SSS)\n",
    "D =  1- S  #((S-np.min(S))/(np.max(S)-np.min(S)))  # An array of pairwise distances between samples.\n",
    "np.fill_diagonal(D, 0)\n",
    "\n",
    "Sil_TopK = metrics.silhouette_score(D, labels, metric = \"precomputed\")\n",
    "print (f'\"Similarity\" is \"Top-K\":')\n",
    "print (f\"Silhouette_score = {Sil_TopK}\")"
   ]
  },
  {
   "cell_type": "markdown",
   "metadata": {},
   "source": [
    "# Printing the final results:"
   ]
  },
  {
   "cell_type": "code",
   "execution_count": 32,
   "metadata": {},
   "outputs": [
    {
     "name": "stdout",
     "output_type": "stream",
     "text": [
      "\t\t*********** Ground-truth for GNN: TopK ***********\n",
      "\n",
      "Number of epochs:100, \t Train and Validation batch_size = 128,\t Test batch_size = 128\n",
      "Minimum Validation Loss:  0.0023457901552319527 \n",
      "Minimum Train Loss:  0.0024738959036767483 \n",
      "Test Loss:  0.0053601921536028385\n",
      "========================================================\n",
      "Time taken for Training = 0.091s\n"
     ]
    },
    {
     "data": {
      "image/png": "[encoded data removed]",
      "text/plain": [
       "<Figure size 1000x300 with 1 Axes>"
      ]
     },
     "metadata": {},
     "output_type": "display_data"
    }
   ],
   "source": [
    "num = 0\n",
    "\"\"\"This algorithm has two phases: \n",
    "    1. Predicting similarity between the users(pair-wise praphs) comes from GCN. (ground truth once is Top-K items and once is GCN)\n",
    "    2. Clustering based the results of phase 1 using the \"Dominant-set\" Algorithm.\n",
    "    And Finally evaluating our clustering with different metrics.\"\"\"\n",
    "\n",
    "print (\"\\t\\t*********** Ground-truth for GNN: TopK ***********\\n\")\n",
    "print (f\"Number of epochs:{epochs}, \\t Train and Validation batch_size = {batch_size},\\t Test batch_size = {bs}\")\n",
    "print(\"Minimum Validation Loss: \",min_val_loss, \"\\nMinimum Train Loss: \", min_train_loss,  \"\\nTest Loss: \",Test_error)\n",
    "print(\"========================================================\")\n",
    "print(f\"Time taken for Training = {round(tok-tik, 3)}s\")\n",
    "plt.figure(figsize=(10,3))\n",
    "plt.plot(train_loss_arr[num:], label = \"Train Loss\", alpha = 1)\n",
    "plt.plot(val_loss_arr[num:], label = \"Val Loss\", alpha = 0.5)\n",
    "plt.legend()\n",
    "plt.title(\"Loss Curves\")\n",
    "plt.xlabel(\"No. of Iterations\")\n",
    "plt.ylabel(\"MSE Loss\")\n",
    "plt.show()\n",
    "\n",
    "# print(\"*** Evaluation of the clustering with different metrics:***\\n\")\n",
    "\n",
    "# print (f'Metric: \"{metric_euc}\" between the \"feature vectors of the users\":\\t Silhouette_score = {Sil_euc}\\n')\n",
    "\n",
    "# print (f'Metric: \"{metric_cos}\" between the \"feature vectors of the users\":\\t Silhouette_score = {Sil_cos}\\n')\n",
    "\n",
    "# print (f'Metric: \"Similarity\" is \"GCN\":\\t\\t\\t\\t\\t Silhouette_score = {Sil_GCN}\\n')\n",
    "\n",
    "# print (f'Metric: \"Similarity\" is \"GED\":\\t\\t\\t\\t\\t Silhouette_score = {Sil_GED}\\n')\n",
    "\n",
    "# print (f'Metric: \"Similarity\" is \"Top-K\":\\t\\t\\t\\t Silhouette_score = {Sil_TopK}\\n')\n",
    "\n",
    "# print(f\"Calinski_harabasz_score = {CH},\\nDavies_bouldin_score = {DB})\\n\")"
   ]
  },
  {
   "cell_type": "markdown",
   "metadata": {},
   "source": [
    "# Recommending itams to groups of users"
   ]
  },
  {
   "cell_type": "code",
   "execution_count": 33,
   "metadata": {},
   "outputs": [],
   "source": [
    "## AGGRIGATION METHODS: We defined different methods here:\n",
    "\n",
    "# Item_scores_matrix is a matrix which rows are users and columns are items. Entries indicte how much the user likes this item more than the other items.\n",
    "# Please see section **Similarity** where we defined it.\n",
    "# Personalized_Item_scores_matrix is the normalized Item_scores_matrix\n",
    "\n",
    "## 1. Average \n",
    "def Agg_Average (Personalized_Item_scores_matrix, Groups_id, num_items):  \n",
    "    Groups_Item_score = np.zeros ((len(Groups_id), num_items))\n",
    "    for group_num in range(len(Groups_id)):\n",
    "        for user in Groups_id[group_num]:\n",
    "            for item in range(num_items):\n",
    "                Groups_Item_score[group_num][item] += Personalized_Item_scores_matrix[user-1][item]\n",
    "        Groups_Item_score[group_num] /= len(Groups_id[group_num])\n",
    "    return Groups_Item_score\n",
    "\n",
    "    \n",
    "## 2. Approval Voting     \n",
    "def Agg_ApprovalVoting (Personalized_Item_scores_matrix, Groups_id, num_items):  \n",
    "    Groups_Item_score = np.zeros ((len(Groups_id), num_items))\n",
    "    threshold = 0.4\n",
    "    for group_num in range(len(Groups_id)):\n",
    "        for item in range(num_items):\n",
    "            votes = 0\n",
    "            for user in Groups_id[group_num]:\n",
    "                if Personalized_Item_scores_matrix[user-1][item] >= threshold:\n",
    "                    votes += 1\n",
    "                    #print(\"group_num\",group_num, \"item\", item, \"user\", user)\n",
    "            Groups_Item_score[group_num][item] =  votes\n",
    "    return Groups_Item_score\n",
    "    \n",
    "\n",
    "gn = 0\n",
    "\n"
   ]
  },
  {
   "cell_type": "markdown",
   "metadata": {},
   "source": [
    "# ***EVALUATION: ***"
   ]
  },
  {
   "cell_type": "markdown",
   "metadata": {},
   "source": [
    "# Confusion Matrix"
   ]
  },
  {
   "cell_type": "code",
   "execution_count": 34,
   "metadata": {},
   "outputs": [],
   "source": [
    "def plot_confusion_matrix(tp, fp, tn, fn, classes, Teta, F1_score):\n",
    "    # Create confusion matrix data\n",
    "    cm = np.array([[tn, fp], [fn, tp]])\n",
    "\n",
    "    # Create figure and axis\n",
    "    fig, ax = plt.subplots()\n",
    "\n",
    "    # Create heatmap\n",
    "    im = ax.imshow(cm, interpolation='nearest', cmap='Blues')\n",
    "\n",
    "    # Add colorbar\n",
    "    cbar = ax.figure.colorbar(im, ax=ax)\n",
    "    cbar.ax.tick_params(labelsize=15)\n",
    "\n",
    "\n",
    "    # Set tick labels and axis labels\n",
    "    #ax.set(xticks=np.arange(cm.shape[1]),yticks=np.arange(cm.shape[0])),xticklabels=classes, yticklabels=classes),xlabel='Predicted', ylabel='Ground truth')\n",
    "    ax.set_xticks (np.arange(cm.shape[1])) \n",
    "    ax.set_yticks (np.arange(cm.shape[0]))\n",
    "    ax.set_xticklabels (classes, fontsize=25)  \n",
    "    ax.set_yticklabels (classes, fontsize=25) \n",
    "    ax.set_xlabel('Predicted', fontsize=25)\n",
    "    ax.set_ylabel('Ground truth', fontsize=25)\n",
    "\n",
    "    # Loop over data dimensions and add text annotations\n",
    "    for i in range(cm.shape[0]):\n",
    "        for j in range(cm.shape[1]):\n",
    "            ax.text(j, i, str(cm[i, j]), ha='center', va='center', color='black', fontsize=20)\n",
    "\n",
    "    # Show plot\n",
    "    Title = \"Teta:{}    F1_score:{}\".format(Teta, F1_score)\n",
    "    plt.title(Title, fontsize=25)\n",
    "    plt.tight_layout()\n",
    "    plt.show()\n"
   ]
  },
  {
   "cell_type": "code",
   "execution_count": 35,
   "metadata": {},
   "outputs": [
    {
     "name": "stdout",
     "output_type": "stream",
     "text": [
      "Group_NEWFairness_total: 1.0\n"
     ]
    },
    {
     "data": {
      "image/png": "[encoded data removed]",
      "text/plain": [
       "<Figure size 640x480 with 2 Axes>"
      ]
     },
     "metadata": {},
     "output_type": "display_data"
    },
    {
     "name": "stdout",
     "output_type": "stream",
     "text": [
      "Teta: 0.1 \t F1_score: 0.48\n",
      "SumTP 171 SumFP 3 SumTN 40 SumFN 366\n",
      "Group_NEWFairness_total: 0.9866666666666667\n"
     ]
    },
    {
     "data": {
      "image/png": "[encoded data removed]",
      "text/plain": [
       "<Figure size 640x480 with 2 Axes>"
      ]
     },
     "metadata": {},
     "output_type": "display_data"
    },
    {
     "name": "stdout",
     "output_type": "stream",
     "text": [
      "Teta: 0.2 \t F1_score: 0.49\n",
      "SumTP 166 SumFP 8 SumTN 71 SumFN 335\n",
      "Group_NEWFairness_total: 0.9400000000000001\n"
     ]
    },
    {
     "data": {
      "image/png": "[encoded data removed]",
      "text/plain": [
       "<Figure size 640x480 with 2 Axes>"
      ]
     },
     "metadata": {},
     "output_type": "display_data"
    },
    {
     "name": "stdout",
     "output_type": "stream",
     "text": [
      "Teta: 0.3 \t F1_score: 0.53\n",
      "SumTP 144 SumFP 30 SumTN 179 SumFN 227\n",
      "Group_NEWFairness_total: 0.9400000000000001\n"
     ]
    },
    {
     "data": {
      "image/png": "[encoded data removed]",
      "text/plain": [
       "<Figure size 640x480 with 2 Axes>"
      ]
     },
     "metadata": {},
     "output_type": "display_data"
    },
    {
     "name": "stdout",
     "output_type": "stream",
     "text": [
      "Teta: 0.4 \t F1_score: 0.53\n",
      "SumTP 144 SumFP 30 SumTN 179 SumFN 227\n",
      "Group_NEWFairness_total: 0.8780952380952382\n"
     ]
    },
    {
     "data": {
      "image/png": "[encoded data removed]",
      "text/plain": [
       "<Figure size 640x480 with 2 Axes>"
      ]
     },
     "metadata": {},
     "output_type": "display_data"
    },
    {
     "name": "stdout",
     "output_type": "stream",
     "text": [
      "Teta: 0.5 \t F1_score: 0.54\n",
      "SumTP 130 SumFP 44 SumTN 225 SumFN 181\n",
      "Group_NEWFairness_total: 0.7357142857142858\n"
     ]
    },
    {
     "data": {
      "image/png": "[encoded data removed]",
      "text/plain": [
       "<Figure size 640x480 with 2 Axes>"
      ]
     },
     "metadata": {},
     "output_type": "display_data"
    },
    {
     "name": "stdout",
     "output_type": "stream",
     "text": [
      "Teta: 0.6 \t F1_score: 0.53\n",
      "SumTP 115 SumFP 59 SumTN 261 SumFN 145\n",
      "Group_NEWFairness_total: 0.2733333333333333\n"
     ]
    },
    {
     "data": {
      "image/png": "[encoded data removed]",
      "text/plain": [
       "<Figure size 640x480 with 2 Axes>"
      ]
     },
     "metadata": {},
     "output_type": "display_data"
    },
    {
     "name": "stdout",
     "output_type": "stream",
     "text": [
      "Teta: 0.7 \t F1_score: 0.49\n",
      "SumTP 75 SumFP 99 SumTN 349 SumFN 57\n",
      "Group_NEWFairness_total: 0.2733333333333333\n"
     ]
    },
    {
     "data": {
      "image/png": "[encoded data removed]",
      "text/plain": [
       "<Figure size 640x480 with 2 Axes>"
      ]
     },
     "metadata": {},
     "output_type": "display_data"
    },
    {
     "name": "stdout",
     "output_type": "stream",
     "text": [
      "Teta: 0.8 \t F1_score: 0.49\n",
      "SumTP 75 SumFP 99 SumTN 349 SumFN 57\n",
      "Group_NEWFairness_total: 0.17333333333333334\n"
     ]
    },
    {
     "data": {
      "image/png": "[encoded data removed]",
      "text/plain": [
       "<Figure size 640x480 with 2 Axes>"
      ]
     },
     "metadata": {},
     "output_type": "display_data"
    },
    {
     "name": "stdout",
     "output_type": "stream",
     "text": [
      "Teta: 0.9 \t F1_score: 0.40\n",
      "SumTP 52 SumFP 122 SumTN 373 SumFN 33\n",
      "Program Executed in 2.149904689998948\n"
     ]
    },
    {
     "data": {
      "image/png": "[encoded data removed]",
      "text/plain": [
       "<Figure size 640x480 with 1 Axes>"
      ]
     },
     "metadata": {},
     "output_type": "display_data"
    },
    {
     "name": "stdout",
     "output_type": "stream",
     "text": [
      "[0.4810126582278481, 0.4918518518518518, 0.528440366972477, 0.528440366972477, 0.5360824742268041, 0.5299539170506913, 0.4901960784313726, 0.4901960784313726, 0.4015444015444015]\n"
     ]
    }
   ],
   "source": [
    "# Evaluation (This evaluation ok: \"based on my definition of TP, FP, T.\")\n",
    "start = timeit.default_timer()\n",
    "#\n",
    "ground_truth = Personalized_Item_scores_matrix\n",
    "num_groups = len(Groups_id)\n",
    "# Choose the aggregation method:\n",
    "Groups_Item_score = Agg_Average (Personalized_Item_scores_matrix, Groups_id, num_items)\n",
    "#Groups_Item_score = Agg_ApprovalVoting (Personalized_Item_scores_matrix, Groups_id, num_items)\n",
    "Theshold = np.arange(0.1, 1.0, 0.1)\n",
    "Precision_list = []\n",
    "Recall_list = []\n",
    "F1_score_list = []\n",
    "Group_NEWFairness_total_list = []\n",
    "SumTP_list = []   #sum of True Positive\n",
    "SumFP_list = []   #sum of False Positive\n",
    "SumTN_list = []   #sum of True Negative\n",
    "SumFN_list = []   #sum of False Negative\n",
    "for  Teta in Theshold:\n",
    "    SumTP = 0   #sum of True Positive\n",
    "    SumFP = 0   #sum of False Positive\n",
    "    SumTN = 0   #sum of True Negative\n",
    "    SumFN = 0   #sum of False Negative\n",
    "    SumT = 0\n",
    "    SumGroup_Fairness = 0\n",
    "    SumGroup_NEWFairness = 0\n",
    "\n",
    "    for group_num in range(0,num_groups): #********************\n",
    "        num_groupMembers = len(Groups_id[group_num])\n",
    "        TP=0  # TP: True Positive\n",
    "        FP=0  # FP: False positive\n",
    "        TN=0  # TN: true Negative\n",
    "        FN=0  # FN: False Negative\n",
    "        T=0  # T: expected recommendations sets\n",
    "        Group_Fairness = 0\n",
    "        TopK = 3 # number of recommended items  \n",
    "        Recommended_items = np.flip(np.argsort(Groups_Item_score[group_num]))[0:TopK]  # set of \"RECOMMENDED item for that group\"  (Positive items)\n",
    "        #print(\"Recommended items for group\", group_num+1 ,\"are: \", Recommended_items)\n",
    "\n",
    "        # Calculating \"Precision\" and \"Recall\" ***********************\n",
    "        for item in range(num_items):\n",
    "            if item in Recommended_items:\n",
    "                # TP: True Positive: These are the items that the system correctly suggests and that the user finds relevant or useful.\n",
    "                for user in Groups_id[group_num]:\n",
    "                    if ground_truth[user-1][item] >= Teta:  # positive item \n",
    "                        TP+=1  \n",
    "                    else:\n",
    "                        # FP: False positive: These are the items that the system suggests, but the user does not find relevant or useful.\n",
    "                        FP+=1\n",
    "            else:\n",
    "                # TN: True Negative: These are the items that the system correctly does not suggest, as they are not relevant or useful to the user.\n",
    "                # FN: False Negative: These are the items that the system does not suggest, but the user would have found relevant or useful. These represent missed opportunities.\n",
    "                for user in Groups_id[group_num]:\n",
    "                    if ground_truth[user-1][item] >= Teta:  # positive item \n",
    "                        FN+=1  \n",
    "                    else:\n",
    "                        TN+=1\n",
    "        # T: Expected recommendations set\n",
    "            for user in Groups_id[group_num]:\n",
    "                if ground_truth[user-1][item] >= Teta:\n",
    "                    T+=1\n",
    "\n",
    "        Precision=TP/(TP+FP)\n",
    "        #print(\"Precision:\", Precision)\n",
    "        Recall=TP/T\n",
    "        #print(\"Recall:\", Recall)   \n",
    "        SumTP += TP\n",
    "        SumFP += FP\n",
    "        SumTN += TN\n",
    "        SumFN += FN\n",
    "        SumT += T\n",
    "\n",
    "\n",
    "        # Calculating \"Fairness\" ***********************\n",
    "        # Fairness indicate how much a recommended item is Fair. i.e. (number of group members like the recommended item)/(All group members)\n",
    "        Sum_Fairness = 0\n",
    "        for item in Recommended_items: # set of \"RECOMMENDED item for that group\"  \n",
    "                Satisfied_User = 0\n",
    "                for user in Groups_id[group_num]:\n",
    "                    if ground_truth[user-1][item] >= Teta: \n",
    "                        Satisfied_User += 1\n",
    "                Fairness = Satisfied_User/ num_groupMembers\n",
    "                Sum_Fairness += Fairness\n",
    "        Group_Fairness = Sum_Fairness / len(Recommended_items)   \n",
    "        #print (\"Group Fairness:\", Group_Fairness) \n",
    "        SumGroup_Fairness += Group_Fairness \n",
    "\n",
    "\n",
    "        # Calculating \"NEWFairness\" ***********************\n",
    "        # NEWFairness is defined as the share of group members ui with at least m items in the recommended package for which ui has a high performance.\n",
    "        SatisfiedMembers = 0\n",
    "        Threshold = Teta\n",
    "        Sum_NEWFairness = 0\n",
    "        for user in Groups_id[group_num]:\n",
    "            F = 0\n",
    "            for item in Recommended_items:\n",
    "                if ground_truth[user-1][item] >= Threshold: \n",
    "                    F += 1\n",
    "            if F > len(Recommended_items)/2:\n",
    "                SatisfiedMembers += 1\n",
    "        Group_NEWFairness = SatisfiedMembers /num_groupMembers\n",
    "        #print (\"Group NEWFairness:\", Group_NEWFairness, \"\\n\") \n",
    "        SumGroup_NEWFairness += Group_NEWFairness        \n",
    "\n",
    "\n",
    "        # Calculating \"Consensus\" ***********************\n",
    "        Sum_Item_Consensus = 0\n",
    "        for item in Recommended_items: # set of \"RECOMMENDED item for that group\"  \n",
    "            error = 0\n",
    "            for user in Groups_id[group_num]:   \n",
    "                for user2 in Groups_id[group_num]: \n",
    "                    error += abs(ground_truth[user-1][item] - ground_truth[user2-1][item])\n",
    "            Item_Consensus =  1 - error / (num_groupMembers * (num_groupMembers -1) / 2 * np.max(ground_truth))\n",
    "            Sum_Item_Consensus += Item_Consensus\n",
    "        Group_Consensus =   Sum_Item_Consensus/ len(Recommended_items)\n",
    "        #print (\"Group Consensus:\", Group_Consensus, \"\\n\") \n",
    "    \n",
    "\n",
    "    SumTP_list.append(SumTP)\n",
    "    SumFP_list.append(SumFP) \n",
    "    SumTN_list.append(SumTN)\n",
    "    SumFN_list.append(SumFN)\n",
    "    \n",
    "#     print(\"****************************\")  \n",
    "#    print(\"Teta:\", Teta)\n",
    "    Precision_total=SumTP/(SumTP+SumFP)\n",
    "#     print(\"Precision_total:\", Precision_total)\n",
    "    Recall_total=SumTP/SumT\n",
    "#     print(\"Recall_total:\", Recall_total)  \n",
    "    F1_score = 2 * Precision_total * Recall_total / (Precision_total + Recall_total)\n",
    "#   print(\"F1-score:\", F1_score) \n",
    "#     Group_Fairness_total = SumGroup_Fairness / len(Groups_id)\n",
    "#     #print(\"Group_Fairness_total:\", Group_Fairness_total)\n",
    "    Group_NEWFairness_total = SumGroup_NEWFairness / num_groups\n",
    "    print(\"Group_NEWFairness_total:\", Group_NEWFairness_total)\n",
    "#     print(\"****************************\")   \n",
    "\n",
    "    # Plot confusion matrix\n",
    "    classes = ['N', 'P']\n",
    "    plot_confusion_matrix(SumTP, SumFP, SumTN, SumFN, classes, format(Teta, '.1f'), format(F1_score, '.2f'))\n",
    "    print(\"Teta:\", format(Teta, '.1f'),\"\\t\", \"F1_score:\", format(F1_score, '.2f'))\n",
    "    print(\"SumTP\",SumTP,\"SumFP\", SumFP, \"SumTN\",SumTN,\"SumFN\", SumFN)\n",
    "    \n",
    "    \n",
    "    Precision_list.append(Precision_total)\n",
    "    Recall_list.append(Recall_total)\n",
    "    F1_score_list.append(F1_score)\n",
    "    Group_NEWFairness_total_list.append(Group_NEWFairness_total)\n",
    "\n",
    "    \n",
    "stop = timeit.default_timer()\n",
    "execution_time = stop - start\n",
    "print(\"Program Executed in \"+str(execution_time)) # It returns time in seconds\n",
    "\n",
    "\n",
    "plt.plot(Theshold, SumTP_list, '-g', label = 'TP')\n",
    "plt.plot(Theshold, SumFP_list, '--r', label = 'FP')\n",
    "plt.plot(Theshold, SumTN_list, '-.b', label = 'TN')\n",
    "plt.plot(Theshold, SumFN_list, ':c', label = 'FN')\n",
    "plt.legend()\n",
    "plt.xlabel('Theshold')\n",
    "plt.ylabel('')\n",
    "plt.title('')\n",
    "plt.show()\n",
    "print(F1_score_list)"
   ]
  },
  {
   "cell_type": "code",
   "execution_count": 36,
   "metadata": {},
   "outputs": [
    {
     "data": {
      "image/png": "[encoded data removed]",
      "text/plain": [
       "<Figure size 640x480 with 1 Axes>"
      ]
     },
     "metadata": {},
     "output_type": "display_data"
    }
   ],
   "source": [
    "plt.plot(Theshold, Precision_list, '-g', label = 'Precision')\n",
    "plt.plot(Theshold, Recall_list, '--r', label = 'Recall')\n",
    "plt.plot(Theshold, F1_score_list, '-.b', label = 'F1_score')\n",
    "plt.plot(Theshold, Group_NEWFairness_total_list, ':c', label = 'Fairness')\n",
    "plt.legend()\n",
    "plt.xlabel('Theshold')\n",
    "plt.ylabel('')\n",
    "plt.title('')\n",
    "plt.show()"
   ]
  },
  {
   "cell_type": "code",
   "execution_count": 37,
   "metadata": {},
   "outputs": [
    {
     "data": {
      "image/png": "[encoded data removed]",
      "text/plain": [
       "<Figure size 640x480 with 1 Axes>"
      ]
     },
     "metadata": {},
     "output_type": "display_data"
    }
   ],
   "source": [
    "plt.plot(Recall_list, Precision_list, 'b')\n",
    "plt.plot(Recall_list, F1_score_list, 'or')\n",
    "plt.xlabel('Recall')\n",
    "plt.ylabel('Precision')\n",
    "plt.title('Precision-Recall Curve')\n",
    "plt.show()"
   ]
  },
  {
   "cell_type": "markdown",
   "metadata": {},
   "source": [
    "# Experiment with random groups (compared to groups of clusters) "
   ]
  },
  {
   "cell_type": "code",
   "execution_count": 38,
   "metadata": {},
   "outputs": [
    {
     "name": "stdout",
     "output_type": "stream",
     "text": [
      "****************************\n",
      "Teta: 0.2\n",
      "Precision_total: 0.9425287356321839\n",
      "Recall_total: 0.3273453093812375\n",
      "F1-score: 0.48592592592592593\n",
      "Group_NEWFairness_total: 0.9933333333333334\n",
      "****************************\n",
      "****************************\n",
      "Teta: 0.30000000000000004\n",
      "Precision_total: 0.8563218390804598\n",
      "Recall_total: 0.4027027027027027\n",
      "F1-score: 0.5477941176470589\n",
      "Group_NEWFairness_total: 0.9666666666666668\n",
      "****************************\n",
      "****************************\n",
      "Teta: 0.4000000000000001\n",
      "Precision_total: 0.7298850574712644\n",
      "Recall_total: 0.4057507987220447\n",
      "F1-score: 0.5215605749486654\n",
      "Group_NEWFairness_total: 0.8961904761904762\n",
      "****************************\n",
      "****************************\n",
      "Teta: 0.5000000000000001\n",
      "Precision_total: 0.6724137931034483\n",
      "Recall_total: 0.45\n",
      "F1-score: 0.5391705069124424\n",
      "Group_NEWFairness_total: 0.8209523809523809\n",
      "****************************\n",
      "****************************\n",
      "Teta: 0.6000000000000001\n",
      "Precision_total: 0.5459770114942529\n",
      "Recall_total: 0.4797979797979798\n",
      "F1-score: 0.5107526881720431\n",
      "Group_NEWFairness_total: 0.7633333333333333\n",
      "****************************\n",
      "****************************\n",
      "Teta: 0.7000000000000002\n",
      "Precision_total: 0.43103448275862066\n",
      "Recall_total: 0.5597014925373134\n",
      "F1-score: 0.487012987012987\n",
      "Group_NEWFairness_total: 0.5157142857142857\n",
      "****************************\n",
      "****************************\n",
      "Teta: 0.8000000000000003\n",
      "Precision_total: 0.3390804597701149\n",
      "Recall_total: 0.6941176470588235\n",
      "F1-score: 0.4555984555984555\n",
      "Group_NEWFairness_total: 0.3719047619047619\n",
      "****************************\n",
      "****************************\n",
      "Teta: 0.9000000000000001\n",
      "Precision_total: 0.1839080459770115\n",
      "Recall_total: 0.8421052631578947\n",
      "F1-score: 0.3018867924528302\n",
      "Group_NEWFairness_total: 0.0419047619047619\n",
      "****************************\n",
      "Program Executed in 0.057326238998939516\n"
     ]
    }
   ],
   "source": [
    "# Evaluation (This evaluation ok: \"based on my definition of TP, FP, T.\")\n",
    "start = timeit.default_timer()\n",
    "#\n",
    "Clustered_Groups_id = Groups_id\n",
    "ground_truth = Personalized_Item_scores_matrix\n",
    "# Choose the aggregation method:\n",
    "Groups_Item_score = Agg_Average (Personalized_Item_scores_matrix, Groups_id, num_items)\n",
    "#Groups_Item_score = Agg_ApprovalVoting (Personalized_Item_scores_matrix, Groups_id, num_items)\n",
    "num_groups = len(Clustered_Groups_id) #equal to the number of clusters\n",
    "Theshold = np.arange(0.2, 1.0, 0.1)\n",
    "Precision_list2 = []\n",
    "Recall_list2 = []\n",
    "F1_score_list2 = []\n",
    "Group_NEWFairness_total_list2 = []\n",
    "for  Teta in Theshold:\n",
    "    SumTP = 0   #sum of True Positive\n",
    "    SumFP = 0   #sum of False Positive\n",
    "    SumT = 0\n",
    "    SumGroup_Fairness = 0\n",
    "    SumGroup_NEWFairness = 0\n",
    "    \n",
    "    # Shuffle the numbers between\n",
    "    numbers = list(range(0, num_users-1))\n",
    "    random.shuffle(numbers)\n",
    "    Groups_id = []\n",
    "    start_index = 0\n",
    "    for group_num in range(0,num_groups): #********************\n",
    "        # We generate random groups the same size as the clustered groups:\n",
    "        num_groupMembers = len(Clustered_Groups_id[group_num])\n",
    "#        Groups_id.append(np.random.randint(1,21,num_groupMembers))  #Generating random members for each group\n",
    "        Groups_id.append(numbers[start_index:start_index+num_groupMembers])\n",
    "        start_index += num_groupMembers\n",
    "#        Groups_Item_score = Agg_ApprovalVoting (Personalized_Item_scores_matrix, Groups_id, num_items)\n",
    "        Groups_Item_score = Agg_Average (Personalized_Item_scores_matrix, Groups_id, num_items)\n",
    "#        print(\"group_num, num_groupMembers, Groups_id: \", group_num, num_groupMembers, Groups_id)\n",
    "\n",
    "        TP=0  # TP: True Positive\n",
    "        FP=0  # FP: False positive\n",
    "        T=0  # T: expected recommendations sets\n",
    "        Group_Fairness = 0\n",
    "        #Teta= 0.4  # Theshold   \n",
    "        TopK = 3 # number of recommended items\n",
    "        Recommended_items = np.flip(np.argsort(Groups_Item_score[group_num]))[0:TopK]  # set of \"RECOMMENDED item for that group\"  (Positive items)\n",
    "        #print(\"Recommended items for group\", group_num+1 ,\"are: \", Recommended_items)\n",
    "\n",
    "        # Calculating \"Precision\" and \"Recall\" ***********************\n",
    "        for item in Recommended_items:\n",
    "            # TP: True Positive\n",
    "            for user in Groups_id[group_num]:\n",
    "                #print (user-1,item,ground_truth[user-1][item])\n",
    "                if ground_truth[user-1][item] >= Teta:  # positive item \n",
    "                    TP+=1\n",
    "                    #print(\"group_num\",group_num, \"item\", item, \"user\", user, \"TP\", TP)    \n",
    "                else:\n",
    "                    # FP: False positive\n",
    "                    FP+=1\n",
    "        # T: Expected recommendations set\n",
    "        for item in range(num_items):\n",
    "            for user in Groups_id[group_num]:\n",
    "                if ground_truth[user-1][item] >= Teta:\n",
    "                    T+=1\n",
    "\n",
    "        Precision=TP/(TP+FP)\n",
    "        #pint(\"Precision:\", Precision)\n",
    "        Recall=TP/T\n",
    "       #print(\"Recall:\", Recall)   \n",
    "        SumTP += TP\n",
    "        SumFP += FP\n",
    "        SumT += T\n",
    "\n",
    "\n",
    "        # Calculating \"Fairness\" ***********************\n",
    "        # Fairness indicate how much a recommended item is Fair. i.e. (number of group members like the recommended item)/(All group members)\n",
    "        Sum_Fairness = 0\n",
    "        for item in Recommended_items: # set of \"RECOMMENDED item for that group\"  \n",
    "                Satisfied_User = 0\n",
    "                for user in Groups_id[group_num]:\n",
    "                    if ground_truth[user-1][item] >= Teta: \n",
    "                        Satisfied_User += 1\n",
    "                Fairness = Satisfied_User/ num_groupMembers\n",
    "                Sum_Fairness += Fairness\n",
    "        Group_Fairness = Sum_Fairness / len(Recommended_items)   \n",
    "      # print (\"Group Fairness:\", Group_Fairness) \n",
    "        SumGroup_Fairness += Group_Fairness \n",
    "\n",
    "\n",
    "        # Calculating \"NEWFairness\" ***********************\n",
    "        # NEWFairness is defined as the share of group members ui with at least m items in the recommended package for which ui has a high performance.\n",
    "        SatisfiedMembers = 0\n",
    "        Threshold = Teta\n",
    "        Sum_NEWFairness = 0\n",
    "        for user in Groups_id[group_num]:\n",
    "            F = 0\n",
    "            for item in Recommended_items:\n",
    "                if ground_truth[user-1][item] >= Threshold: \n",
    "                    F += 1\n",
    "            if F > len(Recommended_items)/2:\n",
    "                SatisfiedMembers += 1\n",
    "        Group_NEWFairness = SatisfiedMembers /num_groupMembers\n",
    "      # print (\"Group NEWFairness:\", Group_NEWFairness, \"\\n\") \n",
    "        SumGroup_NEWFairness += Group_NEWFairness        \n",
    "\n",
    "\n",
    "        # Calculating \"Consensus\" ***********************\n",
    "        Sum_Item_Consensus = 0\n",
    "        for item in Recommended_items: # set of \"RECOMMENDED item for that group\"  \n",
    "            error = 0\n",
    "            for user in Groups_id[group_num]:   \n",
    "                for user2 in Groups_id[group_num]: \n",
    "                    error += abs(ground_truth[user-1][item] - ground_truth[user2-1][item])\n",
    "            Item_Consensus =  1 - error / (num_groupMembers * (num_groupMembers -1) / 2 * np.max(ground_truth))\n",
    "            Sum_Item_Consensus += Item_Consensus\n",
    "        Group_Consensus =   Sum_Item_Consensus/ len(Recommended_items)\n",
    "        #print (\"Group Consensus:\", Group_Consensus, \"\\n\") \n",
    "\n",
    "    print(\"****************************\")  \n",
    "    print(\"Teta:\", Teta)\n",
    "    Precision_total=SumTP/(SumTP+SumFP)\n",
    "    print(\"Precision_total:\", Precision_total)\n",
    "    Recall_total=SumTP/SumT\n",
    "    print(\"Recall_total:\", Recall_total)  \n",
    "    F1_score = 2 * Precision_total * Recall_total / (Precision_total + Recall_total)\n",
    "    print(\"F1-score:\", F1_score) \n",
    "    Group_Fairness_total = SumGroup_Fairness / len(Groups_id)\n",
    "    #print(\"Group_Fairness_total:\", Group_Fairness_total)\n",
    "    Group_NEWFairness_total = SumGroup_NEWFairness / num_groups\n",
    "    print(\"Group_NEWFairness_total:\", Group_NEWFairness_total)\n",
    "    print(\"****************************\")   \n",
    "\n",
    "\n",
    "    Precision_list2.append(Precision_total)\n",
    "    Recall_list2.append(Recall_total)\n",
    "    F1_score_list2.append(F1_score)\n",
    "    Group_NEWFairness_total_list2.append(Group_NEWFairness_total)\n",
    "    \n",
    "stop = timeit.default_timer()\n",
    "execution_time = stop - start\n",
    "print(\"Program Executed in \"+str(execution_time)) # It returns time in seconds\n",
    "\n",
    "\n"
   ]
  },
  {
   "cell_type": "code",
   "execution_count": 39,
   "metadata": {},
   "outputs": [
    {
     "data": {
      "image/png": "[encoded data removed]",
      "text/plain": [
       "<Figure size 640x480 with 1 Axes>"
      ]
     },
     "metadata": {},
     "output_type": "display_data"
    }
   ],
   "source": [
    "plt.plot(Theshold, Precision_list2, '-g', label = 'Precision')\n",
    "plt.plot(Theshold, Recall_list2, '--r', label = 'Recall')\n",
    "plt.plot(Theshold, F1_score_list2, '-.b', label = 'F1_score')\n",
    "plt.plot(Theshold, Group_NEWFairness_total_list2, ':c', label = 'Fairness')\n",
    "plt.legend()\n",
    "plt.xlabel('Theshold')\n",
    "plt.ylabel('')\n",
    "plt.title('')\n",
    "plt.show()"
   ]
  },
  {
   "cell_type": "code",
   "execution_count": 40,
   "metadata": {},
   "outputs": [
    {
     "data": {
      "image/png": "[encoded data removed]",
      "text/plain": [
       "<Figure size 600x200 with 1 Axes>"
      ]
     },
     "metadata": {},
     "output_type": "display_data"
    }
   ],
   "source": [
    "plt.figure(figsize=(6,2))\n",
    "plt.plot(Recall_list, Precision_list, 'g', label = 'with clustering')\n",
    "plt.plot(Recall_list2, Precision_list2, 'r', label = 'without clustering')\n",
    "plt.legend()\n",
    "plt.xlabel('Recall')\n",
    "plt.ylabel('Precision')\n",
    "plt.title('Precision-Recall Curve')\n",
    "plt.show()"
   ]
  },
  {
   "cell_type": "code",
   "execution_count": null,
   "metadata": {},
   "outputs": [],
   "source": []
  },
  {
   "cell_type": "code",
   "execution_count": null,
   "metadata": {},
   "outputs": [],
   "source": []
  },
  {
   "cell_type": "code",
   "execution_count": null,
   "metadata": {},
   "outputs": [],
   "source": []
  },
  {
   "cell_type": "code",
   "execution_count": null,
   "metadata": {},
   "outputs": [],
   "source": []
  },
  {
   "cell_type": "code",
   "execution_count": null,
   "metadata": {},
   "outputs": [],
   "source": []
  }
 ],
 "metadata": {
  "accelerator": "GPU",
  "colab": {
   "collapsed_sections": [],
   "name": "SimGNN-Implementation.ipynb",
   "provenance": []
  },
  "kernelspec": {
   "display_name": "Python 3 (ipykernel)",
   "language": "python",
   "name": "python3"
  },
  "language_info": {
   "codemirror_mode": {
    "name": "ipython",
    "version": 3
   },
   "file_extension": ".py",
   "mimetype": "text/x-python",
   "name": "python",
   "nbconvert_exporter": "python",
   "pygments_lexer": "ipython3",
   "version": "3.10.9"
  }
 },
 "nbformat": 4,
 "nbformat_minor": 1
}
